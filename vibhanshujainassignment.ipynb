{
 "cells": [
  {
   "cell_type": "markdown",
   "metadata": {},
   "source": [
    "#Loading Dataset"
   ]
  },
  {
   "cell_type": "code",
   "execution_count": 1,
   "metadata": {},
   "outputs": [
    {
     "name": "stdout",
     "output_type": "stream",
     "text": [
      "              Port_IDs                                      Trade_History\n",
      "0  3925368433214965504  [{'time': 1718899656000, 'symbol': 'SOLUSDT', ...\n",
      "1  4002413037164645377  [{'time': 1718980078000, 'symbol': 'NEARUSDT',...\n",
      "2  3923766029921022977  [{'time': 1718677164000, 'symbol': 'ETHUSDT', ...\n",
      "3  3994879592543698688  [{'time': 1718678214000, 'symbol': 'ETHUSDT', ...\n",
      "4  3926423286576838657  [{'time': 1718979615000, 'symbol': 'ETHUSDT', ...\n"
     ]
    }
   ],
   "source": [
    "import pandas as pd\n",
    "\n",
    "# Load your dataset (replace with the actual file path)\n",
    "df = pd.read_csv(r'C:\\Users\\VIBHANSHU JAIN\\Desktop\\PrimeTrade assignment\\dataset.csv')\n",
    "\n",
    "# Check the first few rows to understand the structure of the 'Trade_History' column\n",
    "print(df.head())"
   ]
  },
  {
   "cell_type": "markdown",
   "metadata": {},
   "source": [
    "#Cleaning Dataset"
   ]
  },
  {
   "cell_type": "code",
   "execution_count": 2,
   "metadata": {},
   "outputs": [
    {
     "name": "stdout",
     "output_type": "stream",
     "text": [
      "                Port_IDs                                      Trade_History\n",
      "0    3925368433214965504  [{'time': 1718899656000, 'symbol': 'SOLUSDT', ...\n",
      "1    4002413037164645377  [{'time': 1718980078000, 'symbol': 'NEARUSDT',...\n",
      "2    3923766029921022977  [{'time': 1718677164000, 'symbol': 'ETHUSDT', ...\n",
      "3    3994879592543698688  [{'time': 1718678214000, 'symbol': 'ETHUSDT', ...\n",
      "4    3926423286576838657  [{'time': 1718979615000, 'symbol': 'ETHUSDT', ...\n",
      "..                   ...                                                ...\n",
      "145  4000222729738650369  [{'time': 1718982068000, 'symbol': 'ARKMUSDT',...\n",
      "146  3998659472131949824  [{'time': 1718979385000, 'symbol': 'BTCUSDT', ...\n",
      "147  4028701921959171840  [{'time': 1718984241000, 'symbol': 'BTCUSDT', ...\n",
      "148  4014818740371615232  [{'time': 1718983357000, 'symbol': 'SOLUSDT', ...\n",
      "149  3768170840939476993  [{'time': 1718977395000, 'symbol': 'BNBUSDT', ...\n",
      "\n",
      "[150 rows x 2 columns]\n"
     ]
    }
   ],
   "source": [
    "df_cleaned = df.dropna(subset=['Trade_History'])\n",
    "print(df)"
   ]
  },
  {
   "cell_type": "markdown",
   "metadata": {},
   "source": [
    "#Expanding the Trade_history"
   ]
  },
  {
   "cell_type": "code",
   "execution_count": 3,
   "metadata": {},
   "outputs": [
    {
     "name": "stdout",
     "output_type": "stream",
     "text": [
      "Processed Trades for Port_ID 3925368433214965504: [{'time': 1718899656000, 'symbol': 'SOLUSDT', 'side': 'BUY', 'price': 132.537, 'fee': -0.9940275, 'feeAsset': 'USDT', 'quantity': 1988.055, 'quantityAsset': 'USDT', 'realizedProfit': 0.0, 'realizedProfitAsset': 'USDT', 'baseAsset': 'SOL', 'qty': 15.0, 'positionSide': 'LONG', 'activeBuy': True}]\n",
      "Processed Trades for Port_ID 4002413037164645377: [{'time': 1718980078000, 'symbol': 'NEARUSDT', 'side': 'SELL', 'price': 5.344, 'fee': -0.138944, 'feeAsset': 'USDT', 'quantity': 277.888, 'quantityAsset': 'USDT', 'realizedProfit': 7.02899999, 'realizedProfitAsset': 'USDT', 'baseAsset': 'NEAR', 'qty': 52.0, 'positionSide': 'BOTH', 'activeBuy': False}]\n",
      "Processed Trades for Port_ID 3923766029921022977: [{'time': 1718677164000, 'symbol': 'ETHUSDT', 'side': 'SELL', 'price': 3412.28, 'fee': -0.16378944, 'feeAsset': 'USDT', 'quantity': 327.57888, 'quantityAsset': 'USDT', 'realizedProfit': 1.78848, 'realizedProfitAsset': 'USDT', 'baseAsset': 'ETH', 'qty': 0.096, 'positionSide': 'LONG', 'activeBuy': False}]\n",
      "Processed Trades for Port_ID 3994879592543698688: [{'time': 1718678214000, 'symbol': 'ETHUSDT', 'side': 'SELL', 'price': 3430.79, 'fee': -2.32607562, 'feeAsset': 'USDT', 'quantity': 4652.15124, 'quantityAsset': 'USDT', 'realizedProfit': 15.30421084, 'realizedProfitAsset': 'USDT', 'baseAsset': 'ETH', 'qty': 1.356, 'positionSide': 'LONG', 'activeBuy': False}]\n",
      "Processed Trades for Port_ID 3926423286576838657: [{'time': 1718979615000, 'symbol': 'ETHUSDT', 'side': 'SELL', 'price': 3501.6, 'fee': -0.5304924, 'feeAsset': 'USDT', 'quantity': 1060.9848, 'quantityAsset': 'USDT', 'realizedProfit': 6.72054, 'realizedProfitAsset': 'USDT', 'baseAsset': 'ETH', 'qty': 0.303, 'positionSide': 'LONG', 'activeBuy': False}]\n",
      "Processed Trades for Port_ID 3987739404272887297: [{'time': 1718979652000, 'symbol': 'ONDOUSDT', 'side': 'SELL', 'price': 1.2219, 'fee': -0.99199951, 'feeAsset': 'USDT', 'quantity': 1983.99903, 'quantityAsset': 'USDT', 'realizedProfit': 0.0, 'realizedProfitAsset': 'USDT', 'baseAsset': 'ONDO', 'qty': 1623.7, 'positionSide': 'SHORT', 'activeBuy': False}]\n",
      "Processed Trades for Port_ID 4030395639953224449: [{'time': 1718981481000, 'symbol': 'ETHUSDT', 'side': 'SELL', 'price': 3518.96, 'fee': -2.63922, 'feeAsset': 'USDT', 'quantity': 5278.44, 'quantityAsset': 'USDT', 'realizedProfit': 44.94, 'realizedProfitAsset': 'USDT', 'baseAsset': 'ETH', 'qty': 1.5, 'positionSide': 'LONG', 'activeBuy': False}]\n",
      "Processed Trades for Port_ID 3953433416230728705: [{'time': 1718942316000, 'symbol': 'BTCUSDT', 'side': 'SELL', 'price': 64368.8, 'fee': -0.80461, 'feeAsset': 'USDT', 'quantity': 1609.22, 'quantityAsset': 'USDT', 'realizedProfit': -18.4190625, 'realizedProfitAsset': 'USDT', 'baseAsset': 'BTC', 'qty': 0.025, 'positionSide': 'LONG', 'activeBuy': False}]\n",
      "Processed Trades for Port_ID 3919174299855478272: [{'time': 1718853879000, 'symbol': 'ETHUSDT', 'side': 'SELL', 'price': 3545.41, 'fee': -0.6381738, 'feeAsset': 'USDT', 'quantity': 1276.3476, 'quantityAsset': 'USDT', 'realizedProfit': 0.0, 'realizedProfitAsset': 'USDT', 'baseAsset': 'ETH', 'qty': 0.36, 'positionSide': 'BOTH', 'activeBuy': False}]\n",
      "Processed Trades for Port_ID 4029749871687083265: [{'time': 1718675040000, 'symbol': 'FXSUSDT', 'side': 'BUY', 'price': 3.1326, 'fee': -0.24387291, 'feeAsset': 'USDT', 'quantity': 487.74582, 'quantityAsset': 'USDT', 'realizedProfit': 61.41963778, 'realizedProfitAsset': 'USDT', 'baseAsset': 'FXS', 'qty': 155.7, 'positionSide': 'SHORT', 'activeBuy': True}]\n",
      "Processed Trades for Port_ID 4013978721149559808: [{'time': 1718980200000, 'symbol': 'JASMYUSDT', 'side': 'BUY', 'price': 0.029026, 'fee': -0.01995827, 'feeAsset': 'USDT', 'quantity': 99.791388, 'quantityAsset': 'USDT', 'realizedProfit': 0.0, 'realizedProfitAsset': 'USDT', 'baseAsset': 'JASMY', 'qty': 3438.0, 'positionSide': 'BOTH', 'activeBuy': False}]\n",
      "Processed Trades for Port_ID 3878631538480067329: [{'time': 1718986950000, 'symbol': 'ARKMUSDT', 'side': 'BUY', 'price': 1.972, 'fee': -0.2200752, 'feeAsset': 'USDT', 'quantity': 1100.376, 'quantityAsset': 'USDT', 'realizedProfit': 9.2944, 'realizedProfitAsset': 'USDT', 'baseAsset': 'ARKM', 'qty': 558.0, 'positionSide': 'SHORT', 'activeBuy': False}]\n",
      "Processed Trades for Port_ID 3996598927198996481: [{'time': 1718979337000, 'symbol': 'WIFUSDT', 'side': 'SELL', 'price': 1.8522, 'fee': -0.00546399, 'feeAsset': 'USDT', 'quantity': 10.92798, 'quantityAsset': 'USDT', 'realizedProfit': 0.20867101, 'realizedProfitAsset': 'USDT', 'baseAsset': 'WIF', 'qty': 5.9, 'positionSide': 'LONG', 'activeBuy': False}]\n",
      "Processed Trades for Port_ID 4017323550554338817: [{'time': 1718981056000, 'symbol': 'ENSUSDT', 'side': 'BUY', 'price': 26.276, 'fee': -0.01839319, 'feeAsset': 'USDT', 'quantity': 91.966, 'quantityAsset': 'USDT', 'realizedProfit': 0.0, 'realizedProfitAsset': 'USDT', 'baseAsset': 'ENS', 'qty': 3.5, 'positionSide': 'BOTH', 'activeBuy': False}]\n",
      "Processed Trades for Port_ID 3988205565930333696: [{'time': 1718959919000, 'symbol': 'BTCUSDT', 'side': 'BUY', 'price': 63907.2, 'fee': -0.74132352, 'feeAsset': 'USDT', 'quantity': 3706.6176, 'quantityAsset': 'USDT', 'realizedProfit': 0.0, 'realizedProfitAsset': 'USDT', 'baseAsset': 'BTC', 'qty': 0.058, 'positionSide': 'LONG', 'activeBuy': False}]\n",
      "Processed Trades for Port_ID 3978449781300392193: [{'time': 1718977006000, 'symbol': 'ETHUSDT', 'side': 'BUY', 'price': 3483.34, 'fee': -14.54816951, 'feeAsset': 'USDT', 'quantity': 29096.33902, 'quantityAsset': 'USDT', 'realizedProfit': 0.0, 'realizedProfitAsset': 'USDT', 'baseAsset': 'ETH', 'qty': 8.353, 'positionSide': 'LONG', 'activeBuy': True}]\n",
      "Processed Trades for Port_ID 4031181049693676544: [{'time': 1718979513000, 'symbol': 'CFXUSDT', 'side': 'SELL', 'price': 0.15005, 'fee': -0.00457652, 'feeAsset': 'USDT', 'quantity': 9.15305, 'quantityAsset': 'USDT', 'realizedProfit': -0.24502339, 'realizedProfitAsset': 'USDT', 'baseAsset': 'CFX', 'qty': 61.0, 'positionSide': 'LONG', 'activeBuy': False}]\n",
      "Processed Trades for Port_ID 4011626972687000576: [{'time': 1718988481000, 'symbol': 'ETHUSDT', 'side': 'BUY', 'price': 3485.0, 'fee': -2.066605, 'feeAsset': 'USDT', 'quantity': 4133.21, 'quantityAsset': 'USDT', 'realizedProfit': 0.0, 'realizedProfitAsset': 'USDT', 'baseAsset': 'ETH', 'qty': 1.186, 'positionSide': 'BOTH', 'activeBuy': True}]\n",
      "Processed Trades for Port_ID 4023697881318718465: [{'time': 1718641182000, 'symbol': 'DOGEUSDT', 'side': 'BUY', 'price': 0.1267, 'fee': -2.43851888, 'feeAsset': 'USDT', 'quantity': 12192.5944, 'quantityAsset': 'USDT', 'realizedProfit': 803.42456999, 'realizedProfitAsset': 'USDT', 'baseAsset': 'DOGE', 'qty': 96232.0, 'positionSide': 'SHORT', 'activeBuy': False}]\n",
      "Processed Trades for Port_ID 4041804592937345281: [{'time': 1718977017000, 'symbol': 'ARUSDT', 'side': 'BUY', 'price': 25.6, 'fee': -0.03968, 'feeAsset': 'USDT', 'quantity': 79.36, 'quantityAsset': 'USDT', 'realizedProfit': 0.0, 'realizedProfitAsset': 'USDT', 'baseAsset': 'AR', 'qty': 3.1, 'positionSide': 'LONG', 'activeBuy': True}]\n",
      "Processed Trades for Port_ID 4031173908980084736: [{'time': 1718983817000, 'symbol': 'BTCUSDT', 'side': 'SELL', 'price': 63905.9, 'fee': -0.09585885, 'feeAsset': 'USDT', 'quantity': 191.7177, 'quantityAsset': 'USDT', 'realizedProfit': 0.0, 'realizedProfitAsset': 'USDT', 'baseAsset': 'BTC', 'qty': 0.003, 'positionSide': 'SHORT', 'activeBuy': False}]\n",
      "Processed Trades for Port_ID 3891020560590657281: [{'time': 1714179894000, 'symbol': '1000PEPEUSDT', 'side': 'BUY', 'price': 0.0070976, 'fee': -0.01084868, 'feeAsset': 'USDT', 'quantity': 21.6973632, 'quantityAsset': 'USDT', 'realizedProfit': 0.82738598, 'realizedProfitAsset': 'USDT', 'baseAsset': '1000PEPE', 'qty': 3057.0, 'positionSide': 'SHORT', 'activeBuy': True}]\n",
      "Processed Trades for Port_ID 3956076827719377409: [{'time': 1718980950000, 'symbol': '1000PEPEUSDT', 'side': 'BUY', 'price': 0.0114581, 'fee': -0.20004123, 'feeAsset': 'USDT', 'quantity': 400.0824777, 'quantityAsset': 'USDT', 'realizedProfit': 0.0, 'realizedProfitAsset': 'USDT', 'baseAsset': '1000PEPE', 'qty': 34917.0, 'positionSide': 'LONG', 'activeBuy': True}]\n",
      "Processed Trades for Port_ID 4021669203289716224: [{'time': 1718989823000, 'symbol': 'BTCUSDT', 'side': 'SELL', 'price': 63832.6, 'fee': -2.00434364, 'feeAsset': 'USDT', 'quantity': 10021.7182, 'quantityAsset': 'USDT', 'realizedProfit': 41.6207, 'realizedProfitAsset': 'USDT', 'baseAsset': 'BTC', 'qty': 0.157, 'positionSide': 'LONG', 'activeBuy': True}]\n",
      "Processed Trades for Port_ID 3944239644144231424: [{'time': 1718977504000, 'symbol': 'BTCUSDT', 'side': 'BUY', 'price': 63660.0, 'fee': -0.101856, 'feeAsset': 'USDT', 'quantity': 509.28, 'quantityAsset': 'USDT', 'realizedProfit': 0.0, 'realizedProfitAsset': 'USDT', 'baseAsset': 'BTC', 'qty': 0.008, 'positionSide': 'LONG', 'activeBuy': False}]\n",
      "Processed Trades for Port_ID 3998572645139652353: [{'time': 1718962634000, 'symbol': 'BTCUSDT', 'side': 'SELL', 'price': 63980.0, 'fee': -3.570084, 'feeAsset': 'USDT', 'quantity': 17850.42, 'quantityAsset': 'USDT', 'realizedProfit': 87.70012048, 'realizedProfitAsset': 'USDT', 'baseAsset': 'BTC', 'qty': 0.279, 'positionSide': 'LONG', 'activeBuy': True}]\n",
      "Processed Trades for Port_ID 4031451549482615297: [{'time': 1718985618000, 'symbol': 'ORDIUSDT', 'side': 'BUY', 'price': 41.113, 'fee': -0.1480068, 'feeAsset': 'USDT', 'quantity': 296.0136, 'quantityAsset': 'USDT', 'realizedProfit': 0.0, 'realizedProfitAsset': 'USDT', 'baseAsset': 'ORDI', 'qty': 7.2, 'positionSide': 'LONG', 'activeBuy': True}]\n",
      "Processed Trades for Port_ID 4033639786957934336: [{'time': 1718964015000, 'symbol': 'BTCUSDT', 'side': 'SELL', 'price': 64083.8, 'fee': -0.0961257, 'feeAsset': 'USDT', 'quantity': 192.2514, 'quantityAsset': 'USDT', 'realizedProfit': 0.0, 'realizedProfitAsset': 'USDT', 'baseAsset': 'BTC', 'qty': 0.003, 'positionSide': 'SHORT', 'activeBuy': False}]\n",
      "Processed Trades for Port_ID 4029422834086627072: [{'time': 1718781210000, 'symbol': 'ETHUSDT', 'side': 'SELL', 'price': 3547.5, 'fee': -5.9136825, 'feeAsset': 'USDT', 'quantity': 11827.365, 'quantityAsset': 'USDT', 'realizedProfit': 114.05614, 'realizedProfitAsset': 'USDT', 'baseAsset': 'ETH', 'qty': 3.334, 'positionSide': 'LONG', 'activeBuy': False}]\n",
      "Processed Trades for Port_ID 3914654298562589441: [{'time': 1718963819000, 'symbol': 'BTCUSDT', 'side': 'SELL', 'price': 64105.5, 'fee': -5.03228175, 'feeAsset': 'USDT', 'quantity': 10064.5635, 'quantityAsset': 'USDT', 'realizedProfit': 94.9065, 'realizedProfitAsset': 'USDT', 'baseAsset': 'BTC', 'qty': 0.157, 'positionSide': 'BOTH', 'activeBuy': False}]\n",
      "Processed Trades for Port_ID 4030565764341697025: [{'time': 1718981010000, 'symbol': 'ORDIUSDT', 'side': 'BUY', 'price': 41.61, 'fee': -0.12483, 'feeAsset': 'USDT', 'quantity': 249.66, 'quantityAsset': 'USDT', 'realizedProfit': 0.0, 'realizedProfitAsset': 'USDT', 'baseAsset': 'ORDI', 'qty': 6.0, 'positionSide': 'LONG', 'activeBuy': True}]\n",
      "Processed Trades for Port_ID 4034786679304751616: [{'time': 1718967249000, 'symbol': 'WLDUSDT', 'side': 'BUY', 'price': 3.0828, 'fee': -0.061656, 'feeAsset': 'USDT', 'quantity': 308.28, 'quantityAsset': 'USDT', 'realizedProfit': 0.0, 'realizedProfitAsset': 'USDT', 'baseAsset': 'WLD', 'qty': 100.0, 'positionSide': 'BOTH', 'activeBuy': False}]\n",
      "Processed Trades for Port_ID 4029299190618134272: [{'time': 1718971547000, 'symbol': 'BLURUSDT', 'side': 'BUY', 'price': 0.2581, 'fee': -0.07497805, 'feeAsset': 'USDT', 'quantity': 149.9561, 'quantityAsset': 'USDT', 'realizedProfit': 0.0, 'realizedProfitAsset': 'USDT', 'baseAsset': 'BLUR', 'qty': 581.0, 'positionSide': 'LONG', 'activeBuy': True}]\n",
      "Processed Trades for Port_ID 4030555430101054209: [{'time': 1718900988000, 'symbol': 'ETHUSDT', 'side': 'BUY', 'price': 3506.39, 'fee': -18.31738136, 'feeAsset': 'USDT', 'quantity': 36634.76272, 'quantityAsset': 'USDT', 'realizedProfit': 0.0, 'realizedProfitAsset': 'USDT', 'baseAsset': 'ETH', 'qty': 10.448, 'positionSide': 'LONG', 'activeBuy': True}]\n",
      "Processed Trades for Port_ID 4031414524297538817: [{'time': 1718986213000, 'symbol': 'ENSUSDT', 'side': 'SELL', 'price': 26.478, 'fee': -0.0728145, 'feeAsset': 'USDT', 'quantity': 145.629, 'quantityAsset': 'USDT', 'realizedProfit': 0.0, 'realizedProfitAsset': 'USDT', 'baseAsset': 'ENS', 'qty': 5.5, 'positionSide': 'SHORT', 'activeBuy': False}]\n",
      "Processed Trades for Port_ID 3986814617275053313: [{'time': 1718764541000, 'symbol': 'JASMYUSDT', 'side': 'BUY', 'price': 0.033333, 'fee': -0.33639663, 'feeAsset': 'USDT', 'quantity': 1681.98318, 'quantityAsset': 'USDT', 'realizedProfit': 0.0, 'realizedProfitAsset': 'USDT', 'baseAsset': 'JASMY', 'qty': 50460.0, 'positionSide': 'BOTH', 'activeBuy': False}]\n",
      "Processed Trades for Port_ID 4019895412775450368: [{'time': 1718986192000, 'symbol': 'ENSUSDT', 'side': 'SELL', 'price': 26.512, 'fee': -0.06628, 'feeAsset': 'USDT', 'quantity': 132.56, 'quantityAsset': 'USDT', 'realizedProfit': 0.0, 'realizedProfitAsset': 'USDT', 'baseAsset': 'ENS', 'qty': 5.0, 'positionSide': 'SHORT', 'activeBuy': False}]\n",
      "Processed Trades for Port_ID 4026179081117855488: [{'time': 1718989230000, 'symbol': 'BTCUSDT', 'side': 'BUY', 'price': 63600.0, 'fee': -1.272, 'feeAsset': 'USDT', 'quantity': 6360.0, 'quantityAsset': 'USDT', 'realizedProfit': 185.25, 'realizedProfitAsset': 'USDT', 'baseAsset': 'BTC', 'qty': 0.1, 'positionSide': 'SHORT', 'activeBuy': False}]\n",
      "Processed Trades for Port_ID 4036548677626662656: [{'time': 1718960181000, 'symbol': 'ETHUSDT', 'side': 'BUY', 'price': 3451.6, 'fee': -4.2178552, 'feeAsset': 'USDT', 'quantity': 8435.7104, 'quantityAsset': 'USDT', 'realizedProfit': 11.64973333, 'realizedProfitAsset': 'USDT', 'baseAsset': 'ETH', 'qty': 2.444, 'positionSide': 'SHORT', 'activeBuy': True}]\n",
      "Processed Trades for Port_ID 4017110277719148289: [{'time': 1718890066000, 'symbol': 'ETHUSDT', 'side': 'BUY', 'price': 3535.0, 'fee': -0.774165, 'feeAsset': 'USDT', 'quantity': 1548.33, 'quantityAsset': 'USDT', 'realizedProfit': 24.04239807, 'realizedProfitAsset': 'USDT', 'baseAsset': 'ETH', 'qty': 0.438, 'positionSide': 'SHORT', 'activeBuy': True}]\n",
      "Processed Trades for Port_ID 4035430878731345664: [{'time': 1718767525000, 'symbol': 'DOGEUSDT', 'side': 'SELL', 'price': 0.12625, 'fee': -0.0588325, 'feeAsset': 'USDT', 'quantity': 117.665, 'quantityAsset': 'USDT', 'realizedProfit': 5.2192, 'realizedProfitAsset': 'USDT', 'baseAsset': 'DOGE', 'qty': 932.0, 'positionSide': 'LONG', 'activeBuy': False}]\n",
      "Processed Trades for Port_ID 3983074113875692800: [{'time': 1717783271000, 'symbol': 'DOGEUSDT', 'side': 'BUY', 'price': 0.1498, 'fee': -0.55902364, 'feeAsset': 'USDT', 'quantity': 2795.1182, 'quantityAsset': 'USDT', 'realizedProfit': 186.86677826, 'realizedProfitAsset': 'USDT', 'baseAsset': 'DOGE', 'qty': 18659.0, 'positionSide': 'SHORT', 'activeBuy': False}]\n",
      "Processed Trades for Port_ID 3981810242465907713: [{'time': 1717170748000, 'symbol': 'ETHUSDT', 'side': 'SELL', 'price': 3750.0, 'fee': -13.425, 'feeAsset': 'USDT', 'quantity': 26850.0, 'quantityAsset': 'USDT', 'realizedProfit': -163.63126549, 'realizedProfitAsset': 'USDT', 'baseAsset': 'ETH', 'qty': 7.16, 'positionSide': 'LONG', 'activeBuy': False}]\n",
      "Processed Trades for Port_ID 3788465932399412480: [{'time': 1718970665000, 'symbol': 'XRPUSDT', 'side': 'SELL', 'price': 0.4954, 'fee': -1.09171298, 'feeAsset': 'USDT', 'quantity': 2183.42596, 'quantityAsset': 'USDT', 'realizedProfit': 24.68144, 'realizedProfitAsset': 'USDT', 'baseAsset': 'XRP', 'qty': 4407.4, 'positionSide': 'LONG', 'activeBuy': False}]\n",
      "Processed Trades for Port_ID 4023697433751327232: [{'time': 1718641182000, 'symbol': 'DOGEUSDT', 'side': 'BUY', 'price': 0.127, 'fee': -2.43906039, 'feeAsset': 'USDT', 'quantity': 12195.302, 'quantityAsset': 'USDT', 'realizedProfit': 799.45469, 'realizedProfitAsset': 'USDT', 'baseAsset': 'DOGE', 'qty': 96026.0, 'positionSide': 'SHORT', 'activeBuy': False}]\n",
      "Processed Trades for Port_ID 4029506971304830209: [{'time': 1718641182000, 'symbol': 'DOGEUSDT', 'side': 'BUY', 'price': 0.1267, 'fee': -2.4350473, 'feeAsset': 'USDT', 'quantity': 12175.2365, 'quantityAsset': 'USDT', 'realizedProfit': 802.20225413, 'realizedProfitAsset': 'USDT', 'baseAsset': 'DOGE', 'qty': 96095.0, 'positionSide': 'SHORT', 'activeBuy': False}]\n",
      "Processed Trades for Port_ID 3977234346014419201: [{'time': 1717475148000, 'symbol': '1000SHIBUSDT', 'side': 'BUY', 'price': 0.022956, 'fee': -0.12862246, 'feeAsset': 'USDT', 'quantity': 257.244936, 'quantityAsset': 'USDT', 'realizedProfit': 23.51065237, 'realizedProfitAsset': 'USDT', 'baseAsset': '1000SHIB', 'qty': 11206.0, 'positionSide': 'SHORT', 'activeBuy': True}]\n",
      "Processed Trades for Port_ID 3995532094997544704: [{'time': 1718989718000, 'symbol': 'BTCUSDT', 'side': 'SELL', 'price': 63793.6, 'fee': -6.3155664, 'feeAsset': 'USDT', 'quantity': 12631.1328, 'quantityAsset': 'USDT', 'realizedProfit': 0.0, 'realizedProfitAsset': 'USDT', 'baseAsset': 'BTC', 'qty': 0.198, 'positionSide': 'BOTH', 'activeBuy': False}]\n",
      "Processed Trades for Port_ID 4037785885739608577: [{'time': 1718969565000, 'symbol': 'WIFUSDT', 'side': 'SELL', 'price': 1.8995, 'fee': -0.99999177, 'feeAsset': 'USDT', 'quantity': 1999.98355, 'quantityAsset': 'USDT', 'realizedProfit': 0.0, 'realizedProfitAsset': 'USDT', 'baseAsset': 'WIF', 'qty': 1052.9, 'positionSide': 'BOTH', 'activeBuy': False}]\n",
      "Processed Trades for Port_ID 3957509601040585217: [{'time': 1718959791000, 'symbol': 'BTCUSDT', 'side': 'BUY', 'price': 63669.6, 'fee': -0.0636696, 'feeAsset': 'USDT', 'quantity': 127.3392, 'quantityAsset': 'USDT', 'realizedProfit': 0.0, 'realizedProfitAsset': 'USDT', 'baseAsset': 'BTC', 'qty': 0.002, 'positionSide': 'LONG', 'activeBuy': True}]\n",
      "Processed Trades for Port_ID 4028427053699127040: [{'time': 1718956207000, 'symbol': 'ETHUSDT', 'side': 'BUY', 'price': 3475.0, 'fee': -0.3475, 'feeAsset': 'USDT', 'quantity': 1737.5, 'quantityAsset': 'USDT', 'realizedProfit': 0.0, 'realizedProfitAsset': 'USDT', 'baseAsset': 'ETH', 'qty': 0.5, 'positionSide': 'LONG', 'activeBuy': False}]\n",
      "Processed Trades for Port_ID 4037121179310444801: [{'time': 1718989809000, 'symbol': 'ETHUSDT', 'side': 'SELL', 'price': 3497.76, 'fee': -5.68735776, 'feeAsset': 'USDT', 'quantity': 11374.71552, 'quantityAsset': 'USDT', 'realizedProfit': 33.34977446, 'realizedProfitAsset': 'USDT', 'baseAsset': 'ETH', 'qty': 3.252, 'positionSide': 'LONG', 'activeBuy': False}]\n",
      "Processed Trades for Port_ID 3941019213896463617: [{'time': 1718959940000, 'symbol': 'BTCUSDT', 'side': 'BUY', 'price': 63800.0, 'fee': -3.828, 'feeAsset': 'USDT', 'quantity': 19140.0, 'quantityAsset': 'USDT', 'realizedProfit': 0.0, 'realizedProfitAsset': 'USDT', 'baseAsset': 'BTC', 'qty': 0.3, 'positionSide': 'LONG', 'activeBuy': False}]\n",
      "Processed Trades for Port_ID 4041860229502600193: [{'time': 1718981314000, 'symbol': 'SOLUSDT', 'side': 'SELL', 'price': 133.299, 'fee': -4.932063, 'feeAsset': 'USDT', 'quantity': 9864.126, 'quantityAsset': 'USDT', 'realizedProfit': 246.69006541, 'realizedProfitAsset': 'USDT', 'baseAsset': 'SOL', 'qty': 74.0, 'positionSide': 'LONG', 'activeBuy': False}]\n",
      "Processed Trades for Port_ID 3988071780777702657: [{'time': 1718989684000, 'symbol': 'ETHUSDT', 'side': 'SELL', 'price': 3501.5, 'fee': -0.0259111, 'feeAsset': 'USDT', 'quantity': 129.5555, 'quantityAsset': 'USDT', 'realizedProfit': -0.25615755, 'realizedProfitAsset': 'USDT', 'baseAsset': 'ETH', 'qty': 0.037, 'positionSide': 'BOTH', 'activeBuy': True}]\n",
      "Processed Trades for Port_ID 4034359562055356161: [{'time': 1718985187000, 'symbol': 'BTCUSDT', 'side': 'BUY', 'price': 63667.4, 'fee': -0.00775185, 'feeAsset': 'USDT', 'quantity': 25084.9556, 'quantityAsset': 'USDT', 'realizedProfit': 0.0, 'realizedProfitAsset': 'USDT', 'baseAsset': 'BTC', 'qty': 0.394, 'positionSide': 'BOTH', 'activeBuy': False}]\n",
      "Processed Trades for Port_ID 3939925275039085824: [{'time': 1718979316000, 'symbol': 'WIFUSDT', 'side': 'SELL', 'price': 1.8424, 'fee': -0.0654052, 'feeAsset': 'USDT', 'quantity': 130.8104, 'quantityAsset': 'USDT', 'realizedProfit': 1.81359, 'realizedProfitAsset': 'USDT', 'baseAsset': 'WIF', 'qty': 71.0, 'positionSide': 'LONG', 'activeBuy': False}]\n",
      "Processed Trades for Port_ID 4031493134338259457: [{'time': 1718986236000, 'symbol': 'BTCUSDT', 'side': 'SELL', 'price': 63729.9, 'fee': -6.08620545, 'feeAsset': 'USDT', 'quantity': 12172.4109, 'quantityAsset': 'USDT', 'realizedProfit': 32.15397201, 'realizedProfitAsset': 'USDT', 'baseAsset': 'BTC', 'qty': 0.191, 'positionSide': 'LONG', 'activeBuy': False}]\n",
      "Processed Trades for Port_ID 3977116548751698176: [{'time': 1718970279000, 'symbol': 'BTCUSDT', 'side': 'SELL', 'price': 63718.6, 'fee': -0.4778895, 'feeAsset': 'USDT', 'quantity': 955.779, 'quantityAsset': 'USDT', 'realizedProfit': 0.0, 'realizedProfitAsset': 'USDT', 'baseAsset': 'BTC', 'qty': 0.015, 'positionSide': 'BOTH', 'activeBuy': False}]\n",
      "Processed Trades for Port_ID 4008537296438699777: [{'time': 1718413327000, 'symbol': 'BTCUSDT', 'side': 'SELL', 'price': 66201.8, 'fee': -7.4808034, 'feeAsset': 'USDT', 'quantity': 14961.6068, 'quantityAsset': 'USDT', 'realizedProfit': 0.0, 'realizedProfitAsset': 'USDT', 'baseAsset': 'BTC', 'qty': 0.226, 'positionSide': 'SHORT', 'activeBuy': False}]\n",
      "Processed Trades for Port_ID 3936410995029308417: [{'time': 1716230296000, 'symbol': 'BTCUSDT', 'side': 'SELL', 'price': 68500.0, 'fee': -13.7, 'feeAsset': 'USDT', 'quantity': 68500.0, 'quantityAsset': 'USDT', 'realizedProfit': 0.0, 'realizedProfitAsset': 'USDT', 'baseAsset': 'BTC', 'qty': 1.0, 'positionSide': 'SHORT', 'activeBuy': True}]\n",
      "Processed Trades for Port_ID 4033614723417828608: [{'time': 1718979437000, 'symbol': 'ETHUSDT', 'side': 'SELL', 'price': 3496.41, 'fee': -4.49113864, 'feeAsset': 'USDT', 'quantity': 8982.27729, 'quantityAsset': 'USDT', 'realizedProfit': 0.0, 'realizedProfitAsset': 'USDT', 'baseAsset': 'ETH', 'qty': 2.569, 'positionSide': 'BOTH', 'activeBuy': False}]\n",
      "Processed Trades for Port_ID 4037282461943784704: [{'time': 1718982136000, 'symbol': 'ETHUSDT', 'side': 'BUY', 'price': 3515.74, 'fee': -0.8261989, 'feeAsset': 'USDT', 'quantity': 1652.3978, 'quantityAsset': 'USDT', 'realizedProfit': 0.0, 'realizedProfitAsset': 'USDT', 'baseAsset': 'ETH', 'qty': 0.47, 'positionSide': 'LONG', 'activeBuy': True}]\n",
      "Processed Trades for Port_ID 4012994295026226176: [{'time': 1718903646000, 'symbol': 'AVAXUSDT', 'side': 'SELL', 'price': 27.579, 'fee': -0.0137895, 'feeAsset': 'USDT', 'quantity': 27.579, 'quantityAsset': 'USDT', 'realizedProfit': 0.0, 'realizedProfitAsset': 'USDT', 'baseAsset': 'AVAX', 'qty': 1.0, 'positionSide': 'SHORT', 'activeBuy': False}]\n",
      "Processed Trades for Port_ID 3960874214179953664: [{'time': 1718972086000, 'symbol': 'BTCUSDT', 'side': 'BUY', 'price': 63550.0, 'fee': -6.355, 'feeAsset': 'USDT', 'quantity': 31775.0, 'quantityAsset': 'USDT', 'realizedProfit': 0.0, 'realizedProfitAsset': 'USDT', 'baseAsset': 'BTC', 'qty': 0.5, 'positionSide': 'LONG', 'activeBuy': False}]\n",
      "Processed Trades for Port_ID 4040843843196854529: [{'time': 1718978202000, 'symbol': 'ETHUSDT', 'side': 'BUY', 'price': 3471.44, 'fee': -11.40194468, 'feeAsset': 'USDT', 'quantity': 22803.88936, 'quantityAsset': 'USDT', 'realizedProfit': 382.84132, 'realizedProfitAsset': 'USDT', 'baseAsset': 'ETH', 'qty': 6.569, 'positionSide': 'SHORT', 'activeBuy': True}]\n",
      "Processed Trades for Port_ID 3991414786174551297: [{'time': 1718910553000, 'symbol': 'ONDOUSDT', 'side': 'SELL', 'price': 1.2838, 'fee': -1.63828285, 'feeAsset': 'USDT', 'quantity': 8191.41428, 'quantityAsset': 'USDT', 'realizedProfit': 0.0, 'realizedProfitAsset': 'USDT', 'baseAsset': 'ONDO', 'qty': 6380.6, 'positionSide': 'SHORT', 'activeBuy': True}]\n",
      "Processed Trades for Port_ID 3932103299427844097: [{'time': 1718984057000, 'symbol': 'BTCUSDT', 'side': 'BUY', 'price': 63915.2, 'fee': -2.556608, 'feeAsset': 'USDT', 'quantity': 5113.216, 'quantityAsset': 'USDT', 'realizedProfit': 0.0, 'realizedProfitAsset': 'USDT', 'baseAsset': 'BTC', 'qty': 0.08, 'positionSide': 'LONG', 'activeBuy': True}]\n",
      "Processed Trades for Port_ID 3966142151544441601: [{'time': 1718986379000, 'symbol': 'ORDIUSDT', 'side': 'BUY', 'price': 41.549, 'fee': -0.28087124, 'feeAsset': 'USDT', 'quantity': 1404.3562, 'quantityAsset': 'USDT', 'realizedProfit': 0.0, 'realizedProfitAsset': 'USDT', 'baseAsset': 'ORDI', 'qty': 33.8, 'positionSide': 'LONG', 'activeBuy': False}]\n",
      "Processed Trades for Port_ID 3910887259807777281: [{'time': 1716998778000, 'symbol': 'ETHUSDT', 'side': 'SELL', 'price': 3750.25, 'fee': -18.75125, 'feeAsset': 'USDT', 'quantity': 37502.5, 'quantityAsset': 'USDT', 'realizedProfit': -598.25628999, 'realizedProfitAsset': 'USDT', 'baseAsset': 'ETH', 'qty': 10.0, 'positionSide': 'LONG', 'activeBuy': False}]\n",
      "Processed Trades for Port_ID 3887577207880438784: [{'time': 1718882759000, 'symbol': 'ORDIUSDT', 'side': 'SELL', 'price': 41.785, 'fee': -0.1378905, 'feeAsset': 'USDT', 'quantity': 275.781, 'quantityAsset': 'USDT', 'realizedProfit': 4.16679326, 'realizedProfitAsset': 'USDT', 'baseAsset': 'ORDI', 'qty': 6.6, 'positionSide': 'BOTH', 'activeBuy': False}]\n",
      "Processed Trades for Port_ID 4037179073830813185: [{'time': 1718969833000, 'symbol': 'BNBUSDT', 'side': 'BUY', 'price': 585.61, 'fee': -0.1991074, 'feeAsset': 'USDT', 'quantity': 398.2148, 'quantityAsset': 'USDT', 'realizedProfit': 0.0, 'realizedProfitAsset': 'USDT', 'baseAsset': 'BNB', 'qty': 0.68, 'positionSide': 'LONG', 'activeBuy': True}]\n",
      "Processed Trades for Port_ID 4021243448368889856: [{'time': 1718986755000, 'symbol': '1000PEPEUSDT', 'side': 'SELL', 'price': 0.0113798, 'fee': -0.07153911, 'feeAsset': 'USDT', 'quantity': 143.0782254, 'quantityAsset': 'USDT', 'realizedProfit': 0.0, 'realizedProfitAsset': 'USDT', 'baseAsset': '1000PEPE', 'qty': 12573.0, 'positionSide': 'SHORT', 'activeBuy': False}]\n",
      "Processed Trades for Port_ID 4004410127575640832: [{'time': 1718892183000, 'symbol': 'ARKMUSDT', 'side': 'BUY', 'price': 1.8303, 'fee': -0.08858652, 'feeAsset': 'USDT', 'quantity': 442.9326, 'quantityAsset': 'USDT', 'realizedProfit': 0.40508663, 'realizedProfitAsset': 'USDT', 'baseAsset': 'ARKM', 'qty': 242.0, 'positionSide': 'SHORT', 'activeBuy': False}]\n",
      "Processed Trades for Port_ID 4006366295148391425: [{'time': 1718717102000, 'symbol': 'BNBUSDT', 'side': 'BUY', 'price': 576.38, 'fee': -0.1239217, 'feeAsset': 'USDT', 'quantity': 247.8434, 'quantityAsset': 'USDT', 'realizedProfit': 0.0, 'realizedProfitAsset': 'USDT', 'baseAsset': 'BNB', 'qty': 0.43, 'positionSide': 'BOTH', 'activeBuy': True}]\n",
      "Processed Trades for Port_ID 3939318616482048768: [{'time': 1718970102000, 'symbol': 'ETHUSDT', 'side': 'BUY', 'price': 3497.26, 'fee': -1.41813893, 'feeAsset': 'USDT', 'quantity': 2836.27786, 'quantityAsset': 'USDT', 'realizedProfit': 0.0, 'realizedProfitAsset': 'USDT', 'baseAsset': 'ETH', 'qty': 0.811, 'positionSide': 'BOTH', 'activeBuy': True}]\n",
      "Processed Trades for Port_ID 4000877324693233921: [{'time': 1718905659000, 'symbol': 'WIFUSDT', 'side': 'BUY', 'price': 2.005, 'fee': -0.2337028, 'feeAsset': 'USDT', 'quantity': 1168.514, 'quantityAsset': 'USDT', 'realizedProfit': 0.0, 'realizedProfitAsset': 'USDT', 'baseAsset': 'WIF', 'qty': 582.8, 'positionSide': 'LONG', 'activeBuy': False}]\n",
      "Processed Trades for Port_ID 3879821005658659073: [{'time': 1718912441000, 'symbol': 'AVAXUSDT', 'side': 'SELL', 'price': 27.645, 'fee': -0.04146749, 'feeAsset': 'USDT', 'quantity': 82.935, 'quantityAsset': 'USDT', 'realizedProfit': 1.17564102, 'realizedProfitAsset': 'USDT', 'baseAsset': 'AVAX', 'qty': 3.0, 'positionSide': 'LONG', 'activeBuy': False}]\n",
      "Processed Trades for Port_ID 3993014919980212480: [{'time': 1718972350000, 'symbol': 'ETHUSDT', 'side': 'BUY', 'price': 3480.0, 'fee': -0.599952, 'feeAsset': 'USDT', 'quantity': 2999.76, 'quantityAsset': 'USDT', 'realizedProfit': 0.0, 'realizedProfitAsset': 'USDT', 'baseAsset': 'ETH', 'qty': 0.862, 'positionSide': 'LONG', 'activeBuy': False}]\n",
      "Processed Trades for Port_ID 4030626027667524352: [{'time': 1718979676000, 'symbol': 'ETHUSDT', 'side': 'SELL', 'price': 3507.63, 'fee': -5.28073696, 'feeAsset': 'USDT', 'quantity': 10561.47393, 'quantityAsset': 'USDT', 'realizedProfit': 122.33693, 'realizedProfitAsset': 'USDT', 'baseAsset': 'ETH', 'qty': 3.011, 'positionSide': 'LONG', 'activeBuy': False}]\n",
      "Processed Trades for Port_ID 4037073643537925121: [{'time': 1718984843000, 'symbol': 'CYBERUSDT', 'side': 'SELL', 'price': 5.385, 'fee': -0.049542, 'feeAsset': 'USDT', 'quantity': 99.084, 'quantityAsset': 'USDT', 'realizedProfit': 0.0, 'realizedProfitAsset': 'USDT', 'baseAsset': 'CYBER', 'qty': 18.4, 'positionSide': 'SHORT', 'activeBuy': False}]\n",
      "Processed Trades for Port_ID 3944658614777849089: [{'time': 1718684963000, 'symbol': 'SOLUSDT', 'side': 'SELL', 'price': 137.0, 'fee': -0.3014, 'feeAsset': 'USDT', 'quantity': 1507.0, 'quantityAsset': 'USDT', 'realizedProfit': 0.0, 'realizedProfitAsset': 'USDT', 'baseAsset': 'SOL', 'qty': 11.0, 'positionSide': 'SHORT', 'activeBuy': True}]\n",
      "Processed Trades for Port_ID 4020204877254599680: [{'time': 1718982983000, 'symbol': 'BTCUSDT', 'side': 'BUY', 'price': 64074.3, 'fee': -25.78990575, 'feeAsset': 'USDT', 'quantity': 51579.8115, 'quantityAsset': 'USDT', 'realizedProfit': 50.41804698, 'realizedProfitAsset': 'USDT', 'baseAsset': 'BTC', 'qty': 0.805, 'positionSide': 'SHORT', 'activeBuy': True}]\n",
      "Processed Trades for Port_ID 3819545518395756033: [{'time': 1718890781000, 'symbol': 'BTCUSDT', 'side': 'BUY', 'price': 65304.0, 'fee': -1.6326, 'feeAsset': 'USDT', 'quantity': 3265.2, 'quantityAsset': 'USDT', 'realizedProfit': 41.567025, 'realizedProfitAsset': 'USDT', 'baseAsset': 'BTC', 'qty': 0.05, 'positionSide': 'BOTH', 'activeBuy': True}]\n",
      "Processed Trades for Port_ID 3931992636670880512: [{'time': 1718892660000, 'symbol': 'WUSDT', 'side': 'BUY', 'price': 0.3507, 'fee': -0.01958659, 'feeAsset': 'USDT', 'quantity': 39.17319, 'quantityAsset': 'USDT', 'realizedProfit': 0.0, 'realizedProfitAsset': 'USDT', 'baseAsset': 'W', 'qty': 111.7, 'positionSide': 'BOTH', 'activeBuy': True}]\n",
      "Processed Trades for Port_ID 4022641794255717633: [{'time': 1718989524000, 'symbol': 'BOMEUSDT', 'side': 'SELL', 'price': 0.009051, 'fee': -0.00400054, 'feeAsset': 'USDT', 'quantity': 20.00271, 'quantityAsset': 'USDT', 'realizedProfit': 0.0, 'realizedProfitAsset': 'USDT', 'baseAsset': 'BOME', 'qty': 2210.0, 'positionSide': 'SHORT', 'activeBuy': True}]\n",
      "Processed Trades for Port_ID 3672754654734989568: [{'time': 1718985883000, 'symbol': 'JTOUSDT', 'side': 'SELL', 'price': 2.472, 'fee': -0.046968, 'feeAsset': 'USDT', 'quantity': 93.936, 'quantityAsset': 'USDT', 'realizedProfit': 9.462, 'realizedProfitAsset': 'USDT', 'baseAsset': 'JTO', 'qty': 38.0, 'positionSide': 'LONG', 'activeBuy': False}]\n",
      "Processed Trades for Port_ID 4022565861939831809: [{'time': 1718985208000, 'symbol': 'BTCUSDT', 'side': 'BUY', 'price': 63717.2, 'fee': -0.0318586, 'feeAsset': 'USDT', 'quantity': 63.7172, 'quantityAsset': 'USDT', 'realizedProfit': 0.0, 'realizedProfitAsset': 'USDT', 'baseAsset': 'BTC', 'qty': 0.001, 'positionSide': 'LONG', 'activeBuy': True}]\n",
      "Processed Trades for Port_ID 3942630767220672256: [{'time': 1718986317000, 'symbol': '1INCHUSDT', 'side': 'BUY', 'price': 0.4066, 'fee': -0.60298779, 'feeAsset': 'USDT', 'quantity': 1205.9756, 'quantityAsset': 'USDT', 'realizedProfit': 0.0, 'realizedProfitAsset': 'USDT', 'baseAsset': '1INCH', 'qty': 2966.0, 'positionSide': 'BOTH', 'activeBuy': True}]\n",
      "Processed Trades for Port_ID 4027747397961573889: [{'time': 1718985019000, 'symbol': 'ETHUSDT', 'side': 'BUY', 'price': 3480.55, 'fee': -3.27519755, 'feeAsset': 'USDT', 'quantity': 6550.3951, 'quantityAsset': 'USDT', 'realizedProfit': 0.0, 'realizedProfitAsset': 'USDT', 'baseAsset': 'ETH', 'qty': 1.882, 'positionSide': 'LONG', 'activeBuy': True}]\n",
      "Processed Trades for Port_ID 3786761687746711808: [{'time': 1718977739000, 'symbol': 'SOLUSDT', 'side': 'BUY', 'price': 130.006, 'fee': -0.390018, 'feeAsset': 'USDT', 'quantity': 780.036, 'quantityAsset': 'USDT', 'realizedProfit': 0.0, 'realizedProfitAsset': 'USDT', 'baseAsset': 'SOL', 'qty': 6.0, 'positionSide': 'LONG', 'activeBuy': True}]\n",
      "Processed Trades for Port_ID 3999845462424248576: [{'time': 1718982241000, 'symbol': 'JASMYUSDT', 'side': 'SELL', 'price': 0.029802, 'fee': -0.06930455, 'feeAsset': 'USDT', 'quantity': 138.609102, 'quantityAsset': 'USDT', 'realizedProfit': 3.33639062, 'realizedProfitAsset': 'USDT', 'baseAsset': 'JASMY', 'qty': 4651.0, 'positionSide': 'BOTH', 'activeBuy': False}]\n",
      "Processed Trades for Port_ID 4032403303704824321: [{'time': 1718989694000, 'symbol': 'ETHUSDT', 'side': 'BUY', 'price': 3499.15, 'fee': -4.76234315, 'feeAsset': 'USDT', 'quantity': 9524.6863, 'quantityAsset': 'USDT', 'realizedProfit': -0.11984264, 'realizedProfitAsset': 'USDT', 'baseAsset': 'ETH', 'qty': 2.722, 'positionSide': 'BOTH', 'activeBuy': True}]\n",
      "Processed Trades for Port_ID 4035034554469394176: [{'time': 1718934367000, 'symbol': 'LDOUSDT', 'side': 'SELL', 'price': 2.368, 'fee': -5.249856, 'feeAsset': 'USDT', 'quantity': 10499.712, 'quantityAsset': 'USDT', 'realizedProfit': 611.23594998, 'realizedProfitAsset': 'USDT', 'baseAsset': 'LDO', 'qty': 4434.0, 'positionSide': 'BOTH', 'activeBuy': False}]\n",
      "Processed Trades for Port_ID 3944088772635000577: [{'time': 1718988832000, 'symbol': 'ENSUSDT', 'side': 'SELL', 'price': 26.79, 'fee': -0.02679, 'feeAsset': 'USDT', 'quantity': 53.58, 'quantityAsset': 'USDT', 'realizedProfit': 0.0, 'realizedProfitAsset': 'USDT', 'baseAsset': 'ENS', 'qty': 2.0, 'positionSide': 'BOTH', 'activeBuy': False}]\n",
      "Processed Trades for Port_ID 3946087913459823360: [{'time': 1718989905000, 'symbol': 'ARKMUSDT', 'side': 'SELL', 'price': 1.9797, 'fee': -0.00494924, 'feeAsset': 'USDT', 'quantity': 9.8985, 'quantityAsset': 'USDT', 'realizedProfit': 0.112, 'realizedProfitAsset': 'USDT', 'baseAsset': 'ARKM', 'qty': 5.0, 'positionSide': 'BOTH', 'activeBuy': False}]\n",
      "Processed Trades for Port_ID 4004713168329653760: [{'time': 1717783256000, 'symbol': 'DOGEUSDT', 'side': 'BUY', 'price': 0.1536, 'fee': -2.4380928, 'feeAsset': 'USDT', 'quantity': 12190.464, 'quantityAsset': 'USDT', 'realizedProfit': 807.71895, 'realizedProfitAsset': 'USDT', 'baseAsset': 'DOGE', 'qty': 79365.0, 'positionSide': 'SHORT', 'activeBuy': False}]\n",
      "Processed Trades for Port_ID 3930688517098515713: [{'time': 1718981227000, 'symbol': 'BTCUSDT', 'side': 'BUY', 'price': 64219.8, 'fee': -4.7843751, 'feeAsset': 'USDT', 'quantity': 9568.7502, 'quantityAsset': 'USDT', 'realizedProfit': 77.8078, 'realizedProfitAsset': 'USDT', 'baseAsset': 'BTC', 'qty': 0.149, 'positionSide': 'SHORT', 'activeBuy': True}]\n",
      "Processed Trades for Port_ID 3949329502284748801: [{'time': 1718911220000, 'symbol': 'ONDOUSDT', 'side': 'SELL', 'price': 1.273, 'fee': -0.0049647, 'feeAsset': 'USDT', 'quantity': 9.9294, 'quantityAsset': 'USDT', 'realizedProfit': 0.0, 'realizedProfitAsset': 'USDT', 'baseAsset': 'ONDO', 'qty': 7.8, 'positionSide': 'BOTH', 'activeBuy': False}]\n",
      "Processed Trades for Port_ID 3784403294629753856: [{'time': 1718979879000, 'symbol': 'PENDLEUSDT', 'side': 'BUY', 'price': 5.8448, 'fee': -0.0964392, 'feeAsset': 'USDT', 'quantity': 192.8784, 'quantityAsset': 'USDT', 'realizedProfit': 1.68039999, 'realizedProfitAsset': 'USDT', 'baseAsset': 'PENDLE', 'qty': 33.0, 'positionSide': 'SHORT', 'activeBuy': True}]\n",
      "Processed Trades for Port_ID 3977078013600312321: [{'time': 1718984203000, 'symbol': 'FILUSDT', 'side': 'SELL', 'price': 4.362, 'fee': -0.8045709, 'feeAsset': 'USDT', 'quantity': 1609.1418, 'quantityAsset': 'USDT', 'realizedProfit': -1.1067, 'realizedProfitAsset': 'USDT', 'baseAsset': 'FIL', 'qty': 368.9, 'positionSide': 'LONG', 'activeBuy': False}]\n",
      "Processed Trades for Port_ID 4013955990069013504: [{'time': 1718973014000, 'symbol': 'AAVEUSDT', 'side': 'SELL', 'price': 85.26, 'fee': -0.2165604, 'feeAsset': 'USDT', 'quantity': 1082.802, 'quantityAsset': 'USDT', 'realizedProfit': -34.691, 'realizedProfitAsset': 'USDT', 'baseAsset': 'AAVE', 'qty': 12.7, 'positionSide': 'LONG', 'activeBuy': True}]\n",
      "Processed Trades for Port_ID 3951723256343550465: [{'time': 1718384042000, 'symbol': 'ETHUSDT', 'side': 'BUY', 'price': 3406.04, 'fee': -0.24864092, 'feeAsset': 'USDT', 'quantity': 497.28184, 'quantityAsset': 'USDT', 'realizedProfit': 0.0, 'realizedProfitAsset': 'USDT', 'baseAsset': 'ETH', 'qty': 0.146, 'positionSide': 'LONG', 'activeBuy': True}]\n",
      "Processed Trades for Port_ID 3858510226868015873: [{'time': 1718971397000, 'symbol': 'ETHUSDT', 'side': 'SELL', 'price': 3511.39, 'fee': -0.0351139, 'feeAsset': 'USDT', 'quantity': 175.5695, 'quantityAsset': 'USDT', 'realizedProfit': 0.0, 'realizedProfitAsset': 'USDT', 'baseAsset': 'ETH', 'qty': 0.05, 'positionSide': 'BOTH', 'activeBuy': True}]\n",
      "Processed Trades for Port_ID 4030708912786799105: [{'time': 1718641182000, 'symbol': 'DOGEUSDT', 'side': 'BUY', 'price': 0.127, 'fee': -2.43906039, 'feeAsset': 'USDT', 'quantity': 12195.302, 'quantityAsset': 'USDT', 'realizedProfit': 805.02376999, 'realizedProfitAsset': 'USDT', 'baseAsset': 'DOGE', 'qty': 96026.0, 'positionSide': 'SHORT', 'activeBuy': False}]\n",
      "Processed Trades for Port_ID 4030635536196756737: [{'time': 1718989682000, 'symbol': 'ICXUSDT', 'side': 'SELL', 'price': 0.152, 'fee': -0.00061665, 'feeAsset': 'USDT', 'quantity': 1999.864, 'quantityAsset': 'USDT', 'realizedProfit': 0.0, 'realizedProfitAsset': 'USDT', 'baseAsset': 'ICX', 'qty': 13157.0, 'positionSide': 'BOTH', 'activeBuy': True}]\n",
      "Processed Trades for Port_ID 4030392204221219329: [{'time': 1718762514000, 'symbol': 'ENSUSDT', 'side': 'SELL', 'price': 26.775, 'fee': -0.421974, 'feeAsset': 'USDT', 'quantity': 2109.87, 'quantityAsset': 'USDT', 'realizedProfit': 0.0, 'realizedProfitAsset': 'USDT', 'baseAsset': 'ENS', 'qty': 78.8, 'positionSide': 'BOTH', 'activeBuy': True}]\n",
      "Processed Trades for Port_ID 4008711265867865600: [{'time': 1718980444000, 'symbol': 'ETHUSDT', 'side': 'SELL', 'price': 3515.0, 'fee': -0.260813, 'feeAsset': 'USDT', 'quantity': 1304.065, 'quantityAsset': 'USDT', 'realizedProfit': 15.18874, 'realizedProfitAsset': 'USDT', 'baseAsset': 'ETH', 'qty': 0.371, 'positionSide': 'LONG', 'activeBuy': True}]\n",
      "Processed Trades for Port_ID 3962024093501274881: [{'time': 1718987515000, 'symbol': 'ETHUSDT', 'side': 'BUY', 'price': 3482.21, 'fee': -1.11848585, 'feeAsset': 'USDT', 'quantity': 5592.42926, 'quantityAsset': 'USDT', 'realizedProfit': 0.0, 'realizedProfitAsset': 'USDT', 'baseAsset': 'ETH', 'qty': 1.606, 'positionSide': 'LONG', 'activeBuy': False}]\n",
      "Processed Trades for Port_ID 4039279455324236544: [{'time': 1718961924000, 'symbol': 'EOSUSDT', 'side': 'BUY', 'price': 0.576, 'fee': -0.0135936, 'feeAsset': 'USDT', 'quantity': 27.1872, 'quantityAsset': 'USDT', 'realizedProfit': 0.0, 'realizedProfitAsset': 'USDT', 'baseAsset': 'EOS', 'qty': 47.2, 'positionSide': 'LONG', 'activeBuy': True}]\n",
      "Processed Trades for Port_ID 4029507714735307777: [{'time': 1718381297000, 'symbol': 'DOGEUSDT', 'side': 'BUY', 'price': 0.1335, 'fee': -2.4381639, 'feeAsset': 'USDT', 'quantity': 12190.8195, 'quantityAsset': 'USDT', 'realizedProfit': 810.71915999, 'realizedProfitAsset': 'USDT', 'baseAsset': 'DOGE', 'qty': 91317.0, 'positionSide': 'SHORT', 'activeBuy': False}]\n",
      "Processed Trades for Port_ID 4031408429897920512: [{'time': 1718762849000, 'symbol': 'ENSUSDT', 'side': 'SELL', 'price': 26.699, 'fee': -1.815532, 'feeAsset': 'USDT', 'quantity': 9077.66, 'quantityAsset': 'USDT', 'realizedProfit': 0.0, 'realizedProfitAsset': 'USDT', 'baseAsset': 'ENS', 'qty': 340.0, 'positionSide': 'BOTH', 'activeBuy': True}]\n",
      "Processed Trades for Port_ID 4016164457907769600: [{'time': 1718987505000, 'symbol': 'BTCUSDT', 'side': 'SELL', 'price': 63727.9, 'fee': -6.37279, 'feeAsset': 'USDT', 'quantity': 31863.95, 'quantityAsset': 'USDT', 'realizedProfit': 10.9, 'realizedProfitAsset': 'USDT', 'baseAsset': 'BTC', 'qty': 0.5, 'positionSide': 'LONG', 'activeBuy': True}]\n",
      "Processed Trades for Port_ID 3865845304835489536: [{'time': 1717870398000, 'symbol': '1000PEPEUSDT', 'side': 'BUY', 'price': 0.0124584, 'fee': -0.50586087, 'feeAsset': 'USDT', 'quantity': 1011.7217472, 'quantityAsset': 'USDT', 'realizedProfit': -70.37315359, 'realizedProfitAsset': 'USDT', 'baseAsset': '1000PEPE', 'qty': 81208.0, 'positionSide': 'BOTH', 'activeBuy': True}]\n",
      "Processed Trades for Port_ID 3733192481840423936: [{'time': 1718745605000, 'symbol': 'BTCUSDT', 'side': 'SELL', 'price': 65149.3, 'fee': -14.7888911, 'feeAsset': 'USDT', 'quantity': 29577.7822, 'quantityAsset': 'USDT', 'realizedProfit': 321.886, 'realizedProfitAsset': 'USDT', 'baseAsset': 'BTC', 'qty': 0.454, 'positionSide': 'LONG', 'activeBuy': False}]\n",
      "Processed Trades for Port_ID 3976088733682659585: [{'time': 1718618906000, 'symbol': 'ROSEUSDT', 'side': 'SELL', 'price': 0.10567, 'fee': -0.0006964, 'feeAsset': 'USDT', 'quantity': 919.75168, 'quantityAsset': 'USDT', 'realizedProfit': -46.88474505, 'realizedProfitAsset': 'USDT', 'baseAsset': 'ROSE', 'qty': 8704.0, 'positionSide': 'LONG', 'activeBuy': False}]\n",
      "Processed Trades for Port_ID 3953764659057081857: [{'time': 1718959836000, 'symbol': 'BTCUSDT', 'side': 'BUY', 'price': 63781.1, 'fee': -9.63094609, 'feeAsset': 'USDT', 'quantity': 19261.8922, 'quantityAsset': 'USDT', 'realizedProfit': 774.74082106, 'realizedProfitAsset': 'USDT', 'baseAsset': 'BTC', 'qty': 0.302, 'positionSide': 'SHORT', 'activeBuy': True}]\n",
      "Processed Trades for Port_ID 3943533600390906881: [{'time': 1718899769000, 'symbol': 'RONINUSDT', 'side': 'BUY', 'price': 2.3342, 'fee': -0.0140052, 'feeAsset': 'USDT', 'quantity': 28.0104, 'quantityAsset': 'USDT', 'realizedProfit': 0.6552, 'realizedProfitAsset': 'USDT', 'baseAsset': 'RONIN', 'qty': 12.0, 'positionSide': 'BOTH', 'activeBuy': True}]\n",
      "Processed Trades for Port_ID 3907081197088384000: [{'time': 1718986679000, 'symbol': 'ARKMUSDT', 'side': 'SELL', 'price': 1.98, 'fee': -0.39996, 'feeAsset': 'USDT', 'quantity': 1999.8, 'quantityAsset': 'USDT', 'realizedProfit': 0.0, 'realizedProfitAsset': 'USDT', 'baseAsset': 'ARKM', 'qty': 1010.0, 'positionSide': 'BOTH', 'activeBuy': True}]\n",
      "Processed Trades for Port_ID 3886752488982104320: [{'time': 1718786537000, 'symbol': 'FTMUSDT', 'side': 'SELL', 'price': 0.5462, 'fee': -0.0264907, 'feeAsset': 'USDT', 'quantity': 52.9814, 'quantityAsset': 'USDT', 'realizedProfit': 2.6578, 'realizedProfitAsset': 'USDT', 'baseAsset': 'FTM', 'qty': 97.0, 'positionSide': 'LONG', 'activeBuy': False}]\n",
      "Processed Trades for Port_ID 4031673021422897664: [{'time': 1718980361000, 'symbol': 'BTCUSDT', 'side': 'SELL', 'price': 64150.8, 'fee': -3.0792384, 'feeAsset': 'USDT', 'quantity': 15396.192, 'quantityAsset': 'USDT', 'realizedProfit': 130.8192, 'realizedProfitAsset': 'USDT', 'baseAsset': 'BTC', 'qty': 0.24, 'positionSide': 'LONG', 'activeBuy': True}]\n",
      "Processed Trades for Port_ID 4037717032428033792: [{'time': 1718969565000, 'symbol': 'WIFUSDT', 'side': 'BUY', 'price': 1.8994, 'fee': -0.14444937, 'feeAsset': 'USDT', 'quantity': 288.89874, 'quantityAsset': 'USDT', 'realizedProfit': 0.0, 'realizedProfitAsset': 'USDT', 'baseAsset': 'WIF', 'qty': 152.1, 'positionSide': 'BOTH', 'activeBuy': True}]\n",
      "Processed Trades for Port_ID 3975392755164484097: [{'time': 1718987797000, 'symbol': 'SOLUSDT', 'side': 'BUY', 'price': 131.121, 'fee': -0.06556049, 'feeAsset': 'USDT', 'quantity': 131.121, 'quantityAsset': 'USDT', 'realizedProfit': 0.0, 'realizedProfitAsset': 'USDT', 'baseAsset': 'SOL', 'qty': 1.0, 'positionSide': 'LONG', 'activeBuy': True}]\n",
      "Processed Trades for Port_ID 3949214983441029120: [{'time': 1718981297000, 'symbol': 'ETHUSDT', 'side': 'BUY', 'price': 3513.51, 'fee': -0.26527, 'feeAsset': 'USDT', 'quantity': 530.54001, 'quantityAsset': 'USDT', 'realizedProfit': 0.0, 'realizedProfitAsset': 'USDT', 'baseAsset': 'ETH', 'qty': 0.151, 'positionSide': 'LONG', 'activeBuy': True}]\n",
      "Processed Trades for Port_ID 3935808725185052672: [{'time': 1718329833000, 'symbol': '1000PEPEUSDT', 'side': 'SELL', 'price': 0.0118344, 'fee': -0.23285957, 'feeAsset': 'USDT', 'quantity': 465.7191432, 'quantityAsset': 'USDT', 'realizedProfit': 1.2553607, 'realizedProfitAsset': 'USDT', 'baseAsset': '1000PEPE', 'qty': 39353.0, 'positionSide': 'LONG', 'activeBuy': False}]\n",
      "Processed Trades for Port_ID 4040382575336130560: [{'time': 1718848604000, 'symbol': 'MINAUSDT', 'side': 'BUY', 'price': 0.5808, 'fee': -0.0877008, 'feeAsset': 'USDT', 'quantity': 175.4016, 'quantityAsset': 'USDT', 'realizedProfit': 0.0, 'realizedProfitAsset': 'USDT', 'baseAsset': 'MINA', 'qty': 302.0, 'positionSide': 'BOTH', 'activeBuy': True}]\n",
      "Processed Trades for Port_ID 3999240873283311617: [{'time': 1718976508000, 'symbol': 'ENSUSDT', 'side': 'BUY', 'price': 26.466, 'fee': -1.04328972, 'feeAsset': 'USDT', 'quantity': 5216.4486, 'quantityAsset': 'USDT', 'realizedProfit': 126.66415158, 'realizedProfitAsset': 'USDT', 'baseAsset': 'ENS', 'qty': 197.1, 'positionSide': 'BOTH', 'activeBuy': False}]\n",
      "Processed Trades for Port_ID 3880920727367689984: [{'time': 1718960200000, 'symbol': 'BTCUSDT', 'side': 'BUY', 'price': 63537.5, 'fee': -1.9696625, 'feeAsset': 'USDT', 'quantity': 3939.325, 'quantityAsset': 'USDT', 'realizedProfit': 75.38166666, 'realizedProfitAsset': 'USDT', 'baseAsset': 'BTC', 'qty': 0.062, 'positionSide': 'SHORT', 'activeBuy': True}]\n",
      "Processed Trades for Port_ID 3956048468100538880: [{'time': 1717219140000, 'symbol': 'BTCUSDT', 'side': 'BUY', 'price': 67702.0, 'fee': -10.595363, 'feeAsset': 'USDT', 'quantity': 21190.726, 'quantityAsset': 'USDT', 'realizedProfit': 4.5698, 'realizedProfitAsset': 'USDT', 'baseAsset': 'BTC', 'qty': 0.313, 'positionSide': 'SHORT', 'activeBuy': True}]\n",
      "Processed Trades for Port_ID 4038768306117031680: [{'time': 1718979315000, 'symbol': 'DOGEUSDT', 'side': 'BUY', 'price': 0.12273, 'fee': -0.09364299, 'feeAsset': 'USDT', 'quantity': 187.28598, 'quantityAsset': 'USDT', 'realizedProfit': 1.08641509, 'realizedProfitAsset': 'USDT', 'baseAsset': 'DOGE', 'qty': 1526.0, 'positionSide': 'SHORT', 'activeBuy': True}]\n",
      "Processed Trades for Port_ID 3826087012661391104: [{'time': 1718675031000, 'symbol': 'BNBUSDT', 'side': 'BUY', 'price': 583.0, 'fee': -0.009328, 'feeAsset': 'USDT', 'quantity': 46.64, 'quantityAsset': 'USDT', 'realizedProfit': 5.64758927, 'realizedProfitAsset': 'USDT', 'baseAsset': 'BNB', 'qty': 0.08, 'positionSide': 'SHORT', 'activeBuy': False}]\n",
      "Processed Trades for Port_ID 3937714876784951296: [{'time': 1718956857000, 'symbol': 'BNBUSDT', 'side': 'BUY', 'price': 583.45, 'fee': -1.25150025, 'feeAsset': 'USDT', 'quantity': 2503.0005, 'quantityAsset': 'USDT', 'realizedProfit': 0.0, 'realizedProfitAsset': 'USDT', 'baseAsset': 'BNB', 'qty': 4.29, 'positionSide': 'LONG', 'activeBuy': True}]\n",
      "Processed Trades for Port_ID 3993222640082269952: [{'time': 1718980536000, 'symbol': 'AGIXUSDT', 'side': 'BUY', 'price': 0.646, 'fee': -0.002261, 'feeAsset': 'USDT', 'quantity': 4.522, 'quantityAsset': 'USDT', 'realizedProfit': 0.10103822, 'realizedProfitAsset': 'USDT', 'baseAsset': 'AGIX', 'qty': 7.0, 'positionSide': 'SHORT', 'activeBuy': True}]\n",
      "Processed Trades for Port_ID 3910983669796782848: [{'time': 1718892527000, 'symbol': 'ONDOUSDT', 'side': 'BUY', 'price': 1.2234, 'fee': -0.538296, 'feeAsset': 'USDT', 'quantity': 2691.48, 'quantityAsset': 'USDT', 'realizedProfit': 51.48, 'realizedProfitAsset': 'USDT', 'baseAsset': 'ONDO', 'qty': 2200.0, 'positionSide': 'SHORT', 'activeBuy': False}]\n",
      "Processed Trades for Port_ID 3952087967771302912: [{'time': 1718746860000, 'symbol': 'GALAUSDT', 'side': 'BUY', 'price': 0.02718, 'fee': -0.62876853, 'feeAsset': 'USDT', 'quantity': 1257.53706, 'quantityAsset': 'USDT', 'realizedProfit': 0.0, 'realizedProfitAsset': 'USDT', 'baseAsset': 'GALA', 'qty': 46267.0, 'positionSide': 'BOTH', 'activeBuy': True}]\n",
      "Processed Trades for Port_ID 4037511388357114368: [{'time': 1718977131000, 'symbol': 'SOLUSDT', 'side': 'BUY', 'price': 130.125, 'fee': -0.67665, 'feeAsset': 'USDT', 'quantity': 3383.25, 'quantityAsset': 'USDT', 'realizedProfit': 49.79159875, 'realizedProfitAsset': 'USDT', 'baseAsset': 'SOL', 'qty': 26.0, 'positionSide': 'SHORT', 'activeBuy': False}]\n",
      "Processed Trades for Port_ID 4023616625178799873: [{'time': 1718963138000, 'symbol': 'ENSUSDT', 'side': 'SELL', 'price': 26.667, 'fee': -0.0026667, 'feeAsset': 'USDT', 'quantity': 5.3334, 'quantityAsset': 'USDT', 'realizedProfit': 0.0, 'realizedProfitAsset': 'USDT', 'baseAsset': 'ENS', 'qty': 0.2, 'positionSide': 'SHORT', 'activeBuy': False}]\n",
      "Processed Trades for Port_ID 3975304792994095360: [{'time': 1718977836000, 'symbol': 'JASMYUSDT', 'side': 'SELL', 'price': 0.028061, 'fee': -2.75519734, 'feeAsset': 'USDT', 'quantity': 5510.394692, 'quantityAsset': 'USDT', 'realizedProfit': 0.0, 'realizedProfitAsset': 'USDT', 'baseAsset': 'JASMY', 'qty': 196372.0, 'positionSide': 'BOTH', 'activeBuy': False}]\n",
      "Processed Trades for Port_ID 4017263283405469185: [{'time': 1718984760000, 'symbol': '1000PEPEUSDT', 'side': 'SELL', 'price': 0.0111792, 'fee': -1.76587761, 'feeAsset': 'USDT', 'quantity': 3531.7552224, 'quantityAsset': 'USDT', 'realizedProfit': 8.32866277, 'realizedProfitAsset': 'USDT', 'baseAsset': '1000PEPE', 'qty': 315922.0, 'positionSide': 'LONG', 'activeBuy': False}]\n",
      "Processed Trades for Port_ID 3818233536529843712: [{'time': 1718927497000, 'symbol': '1000PEPEUSDT', 'side': 'BUY', 'price': 0.0109787, 'fee': -1.8149383, 'feeAsset': 'USDT', 'quantity': 3629.8766023, 'quantityAsset': 'USDT', 'realizedProfit': 0.0, 'realizedProfitAsset': 'USDT', 'baseAsset': '1000PEPE', 'qty': 330629.0, 'positionSide': 'LONG', 'activeBuy': True}]\n",
      "Processed Trades for Port_ID 4039129759104249600: [{'time': 1718899486000, 'symbol': 'ENSUSDT', 'side': 'BUY', 'price': 24.895, 'fee': -0.014937, 'feeAsset': 'USDT', 'quantity': 29.874, 'quantityAsset': 'USDT', 'realizedProfit': 2.01136272, 'realizedProfitAsset': 'USDT', 'baseAsset': 'ENS', 'qty': 1.2, 'positionSide': 'BOTH', 'activeBuy': True}]\n",
      "Processed Trades for Port_ID 3911997667197443328: [{'time': 1718782848000, 'symbol': 'ETHUSDT', 'side': 'SELL', 'price': 3545.0, 'fee': -0.525369, 'feeAsset': 'USDT', 'quantity': 2626.845, 'quantityAsset': 'USDT', 'realizedProfit': -27.51639612, 'realizedProfitAsset': 'USDT', 'baseAsset': 'ETH', 'qty': 0.741, 'positionSide': 'LONG', 'activeBuy': True}]\n",
      "Processed Trades for Port_ID 4008804082027254529: [{'time': 1718966054000, 'symbol': 'BTCUSDT', 'side': 'BUY', 'price': 63853.9, 'fee': -2.33705273, 'feeAsset': 'USDT', 'quantity': 11685.2637, 'quantityAsset': 'USDT', 'realizedProfit': 0.0, 'realizedProfitAsset': 'USDT', 'baseAsset': 'BTC', 'qty': 0.183, 'positionSide': 'BOTH', 'activeBuy': False}]\n",
      "Processed Trades for Port_ID 3988187872032603905: [{'time': 1718979337000, 'symbol': 'WIFUSDT', 'side': 'SELL', 'price': 1.8522, 'fee': -2.055e-05, 'feeAsset': 'USDT', 'quantity': 26.67168, 'quantityAsset': 'USDT', 'realizedProfit': 0.50928872, 'realizedProfitAsset': 'USDT', 'baseAsset': 'WIF', 'qty': 14.4, 'positionSide': 'LONG', 'activeBuy': False}]\n",
      "Processed Trades for Port_ID 4000222729738650369: [{'time': 1718982068000, 'symbol': 'ARKMUSDT', 'side': 'SELL', 'price': 1.9206, 'fee': -0.10678536, 'feeAsset': 'USDT', 'quantity': 533.9268, 'quantityAsset': 'USDT', 'realizedProfit': 0.0, 'realizedProfitAsset': 'USDT', 'baseAsset': 'ARKM', 'qty': 278.0, 'positionSide': 'SHORT', 'activeBuy': True}]\n",
      "Processed Trades for Port_ID 3998659472131949824: [{'time': 1718979385000, 'symbol': 'BTCUSDT', 'side': 'SELL', 'price': 63994.6, 'fee': -6.3674627, 'feeAsset': 'USDT', 'quantity': 12734.9254, 'quantityAsset': 'USDT', 'realizedProfit': 14.89478686, 'realizedProfitAsset': 'USDT', 'baseAsset': 'BTC', 'qty': 0.199, 'positionSide': 'LONG', 'activeBuy': False}]\n",
      "Processed Trades for Port_ID 4028701921959171840: [{'time': 1718984241000, 'symbol': 'BTCUSDT', 'side': 'BUY', 'price': 63588.9, 'fee': -8.64809039, 'feeAsset': 'USDT', 'quantity': 17296.1808, 'quantityAsset': 'USDT', 'realizedProfit': 0.0, 'realizedProfitAsset': 'USDT', 'baseAsset': 'BTC', 'qty': 0.272, 'positionSide': 'LONG', 'activeBuy': True}]\n",
      "Processed Trades for Port_ID 4014818740371615232: [{'time': 1718983357000, 'symbol': 'SOLUSDT', 'side': 'BUY', 'price': 132.224, 'fee': -6.412864, 'feeAsset': 'USDT', 'quantity': 12825.728, 'quantityAsset': 'USDT', 'realizedProfit': 0.0, 'realizedProfitAsset': 'USDT', 'baseAsset': 'SOL', 'qty': 97.0, 'positionSide': 'LONG', 'activeBuy': True}]\n",
      "Processed Trades for Port_ID 3768170840939476993: [{'time': 1718977395000, 'symbol': 'BNBUSDT', 'side': 'SELL', 'price': 580.63, 'fee': -0.19973672, 'feeAsset': 'USDT', 'quantity': 998.6836, 'quantityAsset': 'USDT', 'realizedProfit': 0.0, 'realizedProfitAsset': 'USDT', 'baseAsset': 'BNB', 'qty': 1.72, 'positionSide': 'BOTH', 'activeBuy': True}]\n",
      "            time    symbol side      price       fee feeAsset    quantity  \\\n",
      "0  1718899656000   SOLUSDT  BUY  132.53700 -0.994027     USDT  1988.05500   \n",
      "1  1718899618000  DOGEUSDT  BUY    0.12182 -0.279796     USDT  1398.98088   \n",
      "2  1718899618000  DOGEUSDT  BUY    0.12182 -0.039494     USDT   197.47022   \n",
      "3  1718899616000  DOGEUSDT  BUY    0.12182 -0.008284     USDT    16.56752   \n",
      "4  1718899616000  DOGEUSDT  BUY    0.12182 -0.046109     USDT    92.21774   \n",
      "\n",
      "  quantityAsset  realizedProfit realizedProfitAsset baseAsset      qty  \\\n",
      "0          USDT             0.0                USDT       SOL     15.0   \n",
      "1          USDT             0.0                USDT      DOGE  11484.0   \n",
      "2          USDT             0.0                USDT      DOGE   1621.0   \n",
      "3          USDT             0.0                USDT      DOGE    136.0   \n",
      "4          USDT             0.0                USDT      DOGE    757.0   \n",
      "\n",
      "  positionSide  activeBuy              port_id  \n",
      "0         LONG       True  3925368433214965504  \n",
      "1         LONG      False  3925368433214965504  \n",
      "2         LONG      False  3925368433214965504  \n",
      "3         LONG       True  3925368433214965504  \n",
      "4         LONG       True  3925368433214965504  \n",
      "                 time    symbol side      price       fee feeAsset  \\\n",
      "0 2024-06-20 16:07:36   SOLUSDT  BUY  132.53700 -0.994027     USDT   \n",
      "1 2024-06-20 16:06:58  DOGEUSDT  BUY    0.12182 -0.279796     USDT   \n",
      "2 2024-06-20 16:06:58  DOGEUSDT  BUY    0.12182 -0.039494     USDT   \n",
      "3 2024-06-20 16:06:56  DOGEUSDT  BUY    0.12182 -0.008284     USDT   \n",
      "4 2024-06-20 16:06:56  DOGEUSDT  BUY    0.12182 -0.046109     USDT   \n",
      "\n",
      "     quantity quantityAsset  realizedProfit realizedProfitAsset baseAsset  \\\n",
      "0  1988.05500          USDT             0.0                USDT       SOL   \n",
      "1  1398.98088          USDT             0.0                USDT      DOGE   \n",
      "2   197.47022          USDT             0.0                USDT      DOGE   \n",
      "3    16.56752          USDT             0.0                USDT      DOGE   \n",
      "4    92.21774          USDT             0.0                USDT      DOGE   \n",
      "\n",
      "       qty positionSide  activeBuy              port_id  \n",
      "0     15.0         LONG       True  3925368433214965504  \n",
      "1  11484.0         LONG      False  3925368433214965504  \n",
      "2   1621.0         LONG      False  3925368433214965504  \n",
      "3    136.0         LONG       True  3925368433214965504  \n",
      "4    757.0         LONG       True  3925368433214965504  \n"
     ]
    }
   ],
   "source": [
    "# Initialize an empty list to store the expanded rows\n",
    "expanded_rows = []\n",
    "\n",
    "# Iterate through each row of the dataset\n",
    "for _, row in df_cleaned.iterrows():\n",
    "    port_id = row['Port_IDs']  # Assuming 'Port_IDs' is the column for portfolio ID\n",
    "    trades = row['Trade_History']  # The column containing the list of trade dictionaries\n",
    "    \n",
    "    # Check if 'Trade_History' is a string and try to convert it to a list\n",
    "    try:\n",
    "        # If trades is a string, convert it to a list of dictionaries using eval\n",
    "        if isinstance(trades, str):\n",
    "            trades = eval(trades)\n",
    "        elif isinstance(trades, float):\n",
    "            # If it's a float (e.g., NaN or missing), skip this row\n",
    "            print(f\"Skipping row with Port_ID: {port_id} because Trade_History is NaN or invalid.\")\n",
    "            continue\n",
    "        print(f\"Processed Trades for Port_ID {port_id}: {trades[:1]}\")  # Print first trade for debugging\n",
    "        \n",
    "    except Exception as e:\n",
    "        print(f\"Error processing Port_ID {port_id}: {e}\")  # Print error if eval fails\n",
    "        continue  # Skip this row if eval fails\n",
    "\n",
    "    # Ensure trades is iterable (list-like)\n",
    "    if isinstance(trades, list):\n",
    "        # Iterate over each trade in the 'Trade_History' list\n",
    "        for trade in trades:\n",
    "            trade['port_id'] = port_id  # Add port_id to the trade record\n",
    "            expanded_rows.append(trade)\n",
    "    else:\n",
    "        print(f\"Skipping row with Port_ID {port_id} because Trade_History is not a list.\")\n",
    "\n",
    "# Create a DataFrame from the expanded rows\n",
    "expanded_df = pd.DataFrame(expanded_rows)\n",
    "\n",
    "# Check the first few rows of the expanded DataFrame\n",
    "print(expanded_df.head())\n",
    "\n",
    "# Optionally, convert 'time' column from Unix timestamp to readable datetime (if it's in Unix format)\n",
    "if 'time' in expanded_df.columns:\n",
    "    expanded_df['time'] = pd.to_datetime(expanded_df['time'], unit='ms')\n",
    "\n",
    "# Verify the updated DataFrame\n",
    "print(expanded_df.head())\n"
   ]
  },
  {
   "cell_type": "code",
   "execution_count": 4,
   "metadata": {},
   "outputs": [
    {
     "name": "stdout",
     "output_type": "stream",
     "text": [
      "<class 'pandas.core.frame.DataFrame'>\n",
      "RangeIndex: 211277 entries, 0 to 211276\n",
      "Data columns (total 15 columns):\n",
      " #   Column               Non-Null Count   Dtype         \n",
      "---  ------               --------------   -----         \n",
      " 0   time                 211277 non-null  datetime64[ns]\n",
      " 1   symbol               211277 non-null  object        \n",
      " 2   side                 211277 non-null  object        \n",
      " 3   price                211277 non-null  float64       \n",
      " 4   fee                  211277 non-null  float64       \n",
      " 5   feeAsset             211277 non-null  object        \n",
      " 6   quantity             211277 non-null  float64       \n",
      " 7   quantityAsset        211277 non-null  object        \n",
      " 8   realizedProfit       211277 non-null  float64       \n",
      " 9   realizedProfitAsset  211277 non-null  object        \n",
      " 10  baseAsset            211277 non-null  object        \n",
      " 11  qty                  211277 non-null  float64       \n",
      " 12  positionSide         211277 non-null  object        \n",
      " 13  activeBuy            211277 non-null  bool          \n",
      " 14  port_id              211277 non-null  int64         \n",
      "dtypes: bool(1), datetime64[ns](1), float64(5), int64(1), object(7)\n",
      "memory usage: 22.8+ MB\n",
      "None\n"
     ]
    }
   ],
   "source": [
    "print(expanded_df.info())  # Check the column names and data types\n"
   ]
  },
  {
   "cell_type": "markdown",
   "metadata": {},
   "source": [
    "#Calculating ROI and PnL"
   ]
  },
  {
   "cell_type": "code",
   "execution_count": 8,
   "metadata": {},
   "outputs": [
    {
     "name": "stdout",
     "output_type": "stream",
     "text": [
      "                 port_id     Total_PnL      Total_ROI\n",
      "0    3672754654734989568  2.521732e+08    8070.392647\n",
      "1    3733192481840423936 -9.536749e+09  166833.608749\n",
      "2    3768170840939476993  4.655977e+01    1331.513450\n",
      "3    3784403294629753856  4.240293e+07  959862.185542\n",
      "4    3786761687746711808  3.949951e+08    2614.398061\n",
      "..                   ...           ...            ...\n",
      "143  4039129759104249600  5.319697e+05   13922.443823\n",
      "144  4039279455324236544  1.067641e+04   18281.632948\n",
      "145  4040843843196854529  3.570686e+08    2458.637146\n",
      "146  4041804592937345281  2.437345e+08   -6847.096010\n",
      "147  4041860229502600193  1.307869e+07    6885.249845\n",
      "\n",
      "[148 rows x 3 columns]\n"
     ]
    }
   ],
   "source": [
    "import pandas as pd\n",
    "\n",
    "# Assuming expanded_df is your DataFrame\n",
    "\n",
    "# Filter BUY and SELL trades\n",
    "buy_trades = expanded_df[expanded_df['side'] == 'BUY'][['symbol', 'port_id', 'price', 'quantity']]\n",
    "sell_trades = expanded_df[expanded_df['side'] == 'SELL'][['symbol', 'port_id', 'price', 'quantity']]\n",
    "\n",
    "# Merge the buy and sell trades on 'symbol' and 'port_id'\n",
    "merged_trades = pd.merge(buy_trades, sell_trades, on=['symbol', 'port_id'], how='inner', suffixes=('_buy', '_sell'))\n",
    "\n",
    "# Calculate ROI for each merged trade\n",
    "merged_trades['ROI'] = (merged_trades['price_sell'] - merged_trades['price_buy']) / merged_trades['price_buy'] * 100\n",
    "\n",
    "# Calculate PnL for each merged trade\n",
    "merged_trades['PnL'] = (merged_trades['price_sell'] - merged_trades['price_buy']) * merged_trades['quantity_buy']\n",
    "\n",
    "# Group by 'port_id' and calculate total PnL and total ROI for each port_id\n",
    "summary = merged_trades.groupby('port_id').agg(\n",
    "    Total_PnL=('PnL', 'sum'),\n",
    "    Total_ROI=('ROI', 'sum')\n",
    ").reset_index()\n",
    "\n",
    "# Display the total PnL and ROI for each port_id\n",
    "print(summary)\n"
   ]
  },
  {
   "cell_type": "markdown",
   "metadata": {},
   "source": [
    "#Ranking Port_ids based on ROI"
   ]
  },
  {
   "cell_type": "code",
   "execution_count": 20,
   "metadata": {},
   "outputs": [
    {
     "name": "stdout",
     "output_type": "stream",
     "text": [
      "port_id\n",
      "3768170840939476993    31.702701\n",
      "3952087967771302912    26.425467\n",
      "3826087012661391104    22.367359\n",
      "4006366295148391425    17.051930\n",
      "3949329502284748801    12.212136\n",
      "4030708912786799105     9.670612\n",
      "3944658614777849089     9.130194\n",
      "4030392204221219329     8.899353\n",
      "3977234346014419201     8.454818\n",
      "4031408429897920512     8.188798\n",
      "3907081197088384000     8.182991\n",
      "4034786679304751616     8.004019\n",
      "3818233536529843712     7.700533\n",
      "3988205565930333696     7.465571\n",
      "4029507714735307777     7.412919\n",
      "4037073643537925121     7.334319\n",
      "3878631538480067329     7.017680\n",
      "3939925275039085824     6.880801\n",
      "3786761687746711808     6.826105\n",
      "4037717032428033792     6.599064\n",
      "Name: ROI, dtype: float64\n"
     ]
    }
   ],
   "source": [
    "import pandas as pd\n",
    "\n",
    "# Assuming merged_trades has the 'ROI' column\n",
    "\n",
    "# Calculate the mean ROI for each port_id\n",
    "roi_mean = merged_trades.groupby('port_id')['ROI'].mean()\n",
    "\n",
    "# Sort by ROI in descending order (higher ROI is better)\n",
    "top_20_roi = roi_mean.sort_values(ascending=False).head(20)\n",
    "\n",
    "# Display the top 20 port_id with the highest ROI\n",
    "print(top_20_roi)\n"
   ]
  },
  {
   "cell_type": "markdown",
   "metadata": {},
   "source": [
    "#Ranking Port_Ids based on PnL"
   ]
  },
  {
   "cell_type": "code",
   "execution_count": 21,
   "metadata": {},
   "outputs": [
    {
     "name": "stdout",
     "output_type": "stream",
     "text": [
      "port_id\n",
      "4020204877254599680    5.904701e+08\n",
      "3957509601040585217    1.359503e+08\n",
      "4022565861939831809    5.994169e+07\n",
      "4028701921959171840    5.109324e+07\n",
      "3978449781300392193    2.539286e+07\n",
      "3975392755164484097    2.059126e+07\n",
      "4017263283405469185    1.591761e+07\n",
      "4031493134338259457    1.532547e+07\n",
      "3960874214179953664    1.511311e+07\n",
      "3925368433214965504    1.216374e+07\n",
      "4008804082027254529    9.558970e+06\n",
      "4037121179310444801    9.502544e+06\n",
      "3998572645139652353    8.510933e+06\n",
      "3858510226868015873    8.133295e+06\n",
      "4034359562055356161    5.031141e+06\n",
      "3949214983441029120    4.947122e+06\n",
      "4033614723417828608    4.502004e+06\n",
      "3886752488982104320    4.344716e+06\n",
      "3941019213896463617    3.326326e+06\n",
      "4008711265867865600    2.806595e+06\n",
      "Name: PnL, dtype: float64\n"
     ]
    }
   ],
   "source": [
    "import pandas as pd\n",
    "\n",
    "# Assuming merged_trades has the 'PnL' column\n",
    "\n",
    "# Calculate the total PnL for each port_id\n",
    "pnl_total = merged_trades.groupby('port_id')['PnL'].sum()\n",
    "\n",
    "# Sort by PnL in descending order (higher PnL is better)\n",
    "top_20_pnl = pnl_total.sort_values(ascending=False).head(20)\n",
    "\n",
    "# Display the top 20 port_id with the highest PnL\n",
    "print(top_20_pnl)\n"
   ]
  },
  {
   "cell_type": "markdown",
   "metadata": {},
   "source": [
    "#Calculating Sharpe Ratio"
   ]
  },
  {
   "cell_type": "code",
   "execution_count": 25,
   "metadata": {},
   "outputs": [
    {
     "name": "stdout",
     "output_type": "stream",
     "text": [
      "                 port_id  Sharpe_Ratio\n",
      "0    3672754654734989568      0.035037\n",
      "1    3733192481840423936      0.025210\n",
      "2    3768170840939476993    439.608727\n",
      "3    3784403294629753856      0.004443\n",
      "4    3786761687746711808      0.480156\n",
      "..                   ...           ...\n",
      "143  4039129759104249600      1.214675\n",
      "144  4039279455324236544      1.247393\n",
      "145  4040843843196854529      3.230822\n",
      "146  4041804592937345281      0.103891\n",
      "147  4041860229502600193      0.925765\n",
      "\n",
      "[148 rows x 2 columns]\n"
     ]
    },
    {
     "name": "stderr",
     "output_type": "stream",
     "text": [
      "C:\\Users\\VIBHANSHU JAIN\\AppData\\Local\\Temp\\ipykernel_6876\\3008127611.py:16: DeprecationWarning: DataFrameGroupBy.apply operated on the grouping columns. This behavior is deprecated, and in a future version of pandas the grouping columns will be excluded from the operation. Either pass `include_groups=False` to exclude the groupings or explicitly select the grouping columns after groupby to silence this warning.\n",
      "  sharpe_summary = merged_trades.groupby('port_id').apply(calculate_sharpe_ratio).reset_index()\n"
     ]
    }
   ],
   "source": [
    "import pandas as pd\n",
    "\n",
    "# Assuming `merged_trades` is the DataFrame with PnL and port_id\n",
    "\n",
    "# Group by port_id and calculate Sharpe Ratio\n",
    "def calculate_sharpe_ratio(group):\n",
    "    mean_pnl = group['PnL'].mean()  # Mean of PnL\n",
    "    std_pnl = group['PnL'].std()   # Standard deviation of PnL\n",
    "    if std_pnl == 0:  # Handle cases where std is zero\n",
    "        sharpe_ratio = 0\n",
    "    else:\n",
    "        sharpe_ratio = mean_pnl / std_pnl\n",
    "    return pd.Series({'Sharpe_Ratio': sharpe_ratio})\n",
    "\n",
    "# Apply the calculation to each port_id\n",
    "sharpe_summary = merged_trades.groupby('port_id').apply(calculate_sharpe_ratio).reset_index()\n",
    "\n",
    "# Display Sharpe Ratio for each port_id\n",
    "print(sharpe_summary)\n"
   ]
  },
  {
   "cell_type": "markdown",
   "metadata": {},
   "source": [
    "#Ranking Port_ids based on Sharpe Ratio"
   ]
  },
  {
   "cell_type": "code",
   "execution_count": 26,
   "metadata": {},
   "outputs": [
    {
     "name": "stdout",
     "output_type": "stream",
     "text": [
      "port_id\n",
      "3768170840939476993    439.608727\n",
      "4031408429897920512      4.911870\n",
      "4040843843196854529      3.230822\n",
      "4004713168329653760      2.772484\n",
      "4029507714735307777      2.445171\n",
      "4030392204221219329      1.535242\n",
      "4037073643537925121      1.479966\n",
      "4030708912786799105      1.470522\n",
      "4039279455324236544      1.247393\n",
      "4039129759104249600      1.214675\n",
      "4037717032428033792      1.070938\n",
      "4023697881318718465      1.060117\n",
      "4030555430101054209      1.004709\n",
      "4037785885739608577      1.004008\n",
      "4041860229502600193      0.925765\n",
      "3977234346014419201      0.900808\n",
      "4031451549482615297      0.879121\n",
      "4030565764341697025      0.842696\n",
      "4031181049693676544      0.757730\n",
      "4030395639953224449      0.699266\n",
      "Name: Sharpe_Ratio, dtype: float64\n"
     ]
    }
   ],
   "source": [
    "import pandas as pd\n",
    "\n",
    "# Assuming merged_trades has the 'Sharpe_Ratio' column\n",
    "\n",
    "# Calculate the average Sharpe ratio for each port_id\n",
    "sharpe_ratio_avg = sharpe_summary.groupby('port_id')['Sharpe_Ratio'].mean()\n",
    "\n",
    "# Sort by Sharpe ratio in descending order (higher Sharpe ratio is better)\n",
    "top_20_sharpe = sharpe_ratio_avg.sort_values(ascending=False).head(20)\n",
    "\n",
    "# Display the top 20 port_id with the highest Sharpe ratio\n",
    "print(top_20_sharpe)\n"
   ]
  },
  {
   "cell_type": "markdown",
   "metadata": {},
   "source": [
    "#Calculating MDD"
   ]
  },
  {
   "cell_type": "code",
   "execution_count": 13,
   "metadata": {},
   "outputs": [
    {
     "name": "stdout",
     "output_type": "stream",
     "text": [
      "                 port_id            MDD\n",
      "0    3672754654734989568  -59868.100000\n",
      "1    3733192481840423936 -873873.700000\n",
      "2    3768170840939476993       0.000000\n",
      "3    3784403294629753856 -198633.925252\n",
      "4    3786761687746711808   -2423.700000\n",
      "..                   ...            ...\n",
      "143  4039129759104249600       0.000000\n",
      "144  4039279455324236544      -0.180300\n",
      "145  4040843843196854529      -6.090000\n",
      "146  4041804592937345281  -15950.873000\n",
      "147  4041860229502600193    -393.124000\n",
      "\n",
      "[148 rows x 2 columns]\n"
     ]
    },
    {
     "name": "stderr",
     "output_type": "stream",
     "text": [
      "C:\\Users\\VIBHANSHU JAIN\\AppData\\Local\\Temp\\ipykernel_6876\\550910386.py:21: DeprecationWarning: DataFrameGroupBy.apply operated on the grouping columns. This behavior is deprecated, and in a future version of pandas the grouping columns will be excluded from the operation. Either pass `include_groups=False` to exclude the groupings or explicitly select the grouping columns after groupby to silence this warning.\n",
      "  mdd_summary = merged_trades.groupby('port_id').apply(calculate_mdd).reset_index()\n"
     ]
    }
   ],
   "source": [
    "import pandas as pd\n",
    "\n",
    "# Assuming `merged_trades` is the DataFrame with PnL and port_id\n",
    "\n",
    "# Sort trades by port_id and trade order (ensure correct time sequence if available)\n",
    "merged_trades = merged_trades.sort_values(by=['port_id', 'symbol'])\n",
    "\n",
    "# Group by port_id and calculate MDD\n",
    "def calculate_mdd(group):\n",
    "    # Calculate cumulative PnL\n",
    "    group['Cumulative_PnL'] = group['PnL'].cumsum()\n",
    "    # Calculate rolling maximum of cumulative PnL\n",
    "    group['Max_Cumulative_PnL'] = group['Cumulative_PnL'].cummax()\n",
    "    # Calculate drawdown\n",
    "    group['Drawdown'] = group['Cumulative_PnL'] - group['Max_Cumulative_PnL']\n",
    "    # Find the maximum drawdown (minimum drawdown value)\n",
    "    mdd = group['Drawdown'].min()\n",
    "    return pd.Series({'MDD': mdd})\n",
    "\n",
    "# Apply the MDD calculation for each port_id\n",
    "mdd_summary = merged_trades.groupby('port_id').apply(calculate_mdd).reset_index()\n",
    "\n",
    "# Display MDD for each port_id\n",
    "print(mdd_summary)\n"
   ]
  },
  {
   "cell_type": "markdown",
   "metadata": {},
   "source": [
    "#Ranking Port_Ids based on MDD"
   ]
  },
  {
   "cell_type": "code",
   "execution_count": 30,
   "metadata": {},
   "outputs": [
    {
     "name": "stdout",
     "output_type": "stream",
     "text": [
      "port_id\n",
      "4020204877254599680   -4.623462e+08\n",
      "3962024093501274881   -2.926709e+08\n",
      "3957509601040585217   -2.680922e+08\n",
      "4022565861939831809   -8.608751e+07\n",
      "3988071780777702657   -6.826755e+07\n",
      "3960874214179953664   -5.698606e+07\n",
      "3932103299427844097   -5.477961e+07\n",
      "3953764659057081857   -5.163785e+07\n",
      "4028701921959171840   -3.618288e+07\n",
      "3977116548751698176   -3.291278e+07\n",
      "3953433416230728705   -3.228448e+07\n",
      "3858510226868015873   -3.197369e+07\n",
      "3995532094997544704   -3.182523e+07\n",
      "4021669203289716224   -1.508001e+07\n",
      "3951723256343550465   -1.208735e+07\n",
      "3926423286576838657   -9.607609e+06\n",
      "4031493134338259457   -9.243635e+06\n",
      "4037121179310444801   -8.446120e+06\n",
      "3919174299855478272   -8.367462e+06\n",
      "3975392755164484097   -7.483729e+06\n",
      "Name: MDD, dtype: float64\n"
     ]
    }
   ],
   "source": [
    "import pandas as pd\n",
    "\n",
    "# Assuming merged_trades has the 'MDD' column\n",
    "\n",
    "# Calculate the MDD for each port_id (assuming 'MDD' is already calculated)\n",
    "mdd_total = mdd_summary.groupby('port_id')['MDD'].max()\n",
    "\n",
    "# Sort by MDD in ascending order (lower MDD is better, so we sort in ascending order)\n",
    "top_20_mdd = mdd_total.sort_values(ascending=True).head(20)\n",
    "\n",
    "# Display the top 20 port_id with the lowest MDD (highest performance)\n",
    "print(top_20_mdd)\n"
   ]
  },
  {
   "cell_type": "markdown",
   "metadata": {},
   "source": [
    "#Calculating Win Rate"
   ]
  },
  {
   "cell_type": "code",
   "execution_count": 12,
   "metadata": {},
   "outputs": [
    {
     "name": "stdout",
     "output_type": "stream",
     "text": [
      "                 port_id  Total_Trades  Winning_Trades    Win_Rate\n",
      "0    3672754654734989568          2696            1621   60.126113\n",
      "1    3733192481840423936         46020           38620   83.920035\n",
      "2    3768170840939476993            42              42  100.000000\n",
      "3    3784403294629753856        405715          226318   55.782507\n",
      "4    3786761687746711808           383             342   89.295039\n",
      "..                   ...           ...             ...         ...\n",
      "143  4039129759104249600          2128            2128  100.000000\n",
      "144  4039279455324236544          6386            6166   96.554964\n",
      "145  4040843843196854529           798             789   98.872180\n",
      "146  4041804592937345281          7681            1727   22.484052\n",
      "147  4041860229502600193          2262            1787   79.000884\n",
      "\n",
      "[148 rows x 4 columns]\n"
     ]
    }
   ],
   "source": [
    "import pandas as pd\n",
    "\n",
    "# Assuming `merged_trades` is the DataFrame with calculated PnL\n",
    "\n",
    "# Identify winning positions (PnL > 0)\n",
    "merged_trades['is_win'] = merged_trades['PnL'] > 0\n",
    "\n",
    "# Group by `port_id` and calculate win rate\n",
    "win_rate_summary = merged_trades.groupby('port_id').agg(\n",
    "    Total_Trades=('is_win', 'count'),         # Total number of trades\n",
    "    Winning_Trades=('is_win', 'sum')         # Number of winning trades (True counts as 1)\n",
    ").reset_index()\n",
    "\n",
    "# Calculate win rate percentage\n",
    "win_rate_summary['Win_Rate'] = (win_rate_summary['Winning_Trades'] / win_rate_summary['Total_Trades']) * 100\n",
    "\n",
    "# Display win rate for each `port_id`\n",
    "print(win_rate_summary)\n"
   ]
  },
  {
   "cell_type": "markdown",
   "metadata": {},
   "source": [
    "#Calculating Total Trades and Win Trades"
   ]
  },
  {
   "cell_type": "code",
   "execution_count": 15,
   "metadata": {},
   "outputs": [
    {
     "name": "stdout",
     "output_type": "stream",
     "text": [
      "                 port_id  Total_Wins  Total_Trades    Win_Rate\n",
      "0    3672754654734989568        1621          2696   60.126113\n",
      "1    3733192481840423936       38620         46020   83.920035\n",
      "2    3768170840939476993          42            42  100.000000\n",
      "3    3784403294629753856      226318        405715   55.782507\n",
      "4    3786761687746711808         342           383   89.295039\n",
      "..                   ...         ...           ...         ...\n",
      "143  4039129759104249600        2128          2128  100.000000\n",
      "144  4039279455324236544        6166          6386   96.554964\n",
      "145  4040843843196854529         789           798   98.872180\n",
      "146  4041804592937345281        1727          7681   22.484052\n",
      "147  4041860229502600193        1787          2262   79.000884\n",
      "\n",
      "[148 rows x 4 columns]\n"
     ]
    }
   ],
   "source": [
    "import pandas as pd\n",
    "\n",
    "# Assuming `merged_trades` is the DataFrame with PnL and port_id\n",
    "\n",
    "# Filter winning positions (PnL > 0)\n",
    "merged_trades['Is_Winning'] = merged_trades['PnL'] > 0\n",
    "\n",
    "# Group by port_id and count the number of winning positions\n",
    "win_positions_summary = merged_trades.groupby('port_id').agg(\n",
    "    Total_Wins=('Is_Winning', 'sum'),\n",
    "    Total_Trades=('Is_Winning', 'size')  # Total trades for each port_id\n",
    ").reset_index()\n",
    "\n",
    "# Optionally, calculate the win rate for each port_id\n",
    "win_positions_summary['Win_Rate'] = (win_positions_summary['Total_Wins'] / win_positions_summary['Total_Trades']) * 100\n",
    "\n",
    "# Display the summary\n",
    "print(win_positions_summary)\n"
   ]
  },
  {
   "cell_type": "markdown",
   "metadata": {},
   "source": [
    "#Ranking Port_ids based on Win Rate"
   ]
  },
  {
   "cell_type": "code",
   "execution_count": 32,
   "metadata": {},
   "outputs": [
    {
     "name": "stdout",
     "output_type": "stream",
     "text": [
      "port_id\n",
      "4037717032428033792    100.000000\n",
      "4004713168329653760    100.000000\n",
      "4035430878731345664    100.000000\n",
      "4037073643537925121    100.000000\n",
      "4030392204221219329    100.000000\n",
      "4031408429897920512    100.000000\n",
      "3977234346014419201    100.000000\n",
      "4037785885739608577    100.000000\n",
      "4029507714735307777    100.000000\n",
      "4039129759104249600    100.000000\n",
      "3768170840939476993    100.000000\n",
      "4040843843196854529     98.872180\n",
      "3944658614777849089     98.765432\n",
      "3956048468100538880     97.058824\n",
      "4039279455324236544     96.554964\n",
      "4038768306117031680     94.986807\n",
      "4017323550554338817     89.356257\n",
      "3786761687746711808     89.295039\n",
      "4030708912786799105     88.793103\n",
      "4030555430101054209     87.899905\n",
      "Name: Win_Rate, dtype: float64\n"
     ]
    }
   ],
   "source": [
    "import pandas as pd\n",
    "\n",
    "# Assuming merged_trades has the 'Win_Rate' column\n",
    "\n",
    "# Calculate the average Win Rate for each port_id\n",
    "win_rate_avg = win_positions_summary.groupby('port_id')['Win_Rate'].mean()\n",
    "\n",
    "# Sort by Win Rate in descending order (higher Win Rate is better)\n",
    "top_20_win_rate = win_rate_avg.sort_values(ascending=False).head(20)\n",
    "\n",
    "# Display the top 20 port_id with the highest Win Rate\n",
    "print(top_20_win_rate)\n"
   ]
  },
  {
   "cell_type": "markdown",
   "metadata": {},
   "source": [
    "#Ranking Port_ids based on Win Positions"
   ]
  },
  {
   "cell_type": "code",
   "execution_count": null,
   "metadata": {},
   "outputs": [
    {
     "name": "stdout",
     "output_type": "stream",
     "text": [
      "port_id\n",
      "4017263283405469185    4086224\n",
      "4000877324693233921    3907078\n",
      "3944088772635000577    1415533\n",
      "4021243448368889856    1228766\n",
      "3956076827719377409     823111\n",
      "3995532094997544704     693316\n",
      "4020204877254599680     664612\n",
      "3999240873283311617     657603\n",
      "3987739404272887297     605432\n",
      "4031493134338259457     408476\n",
      "3887577207880438784     380653\n",
      "4011626972687000576     370639\n",
      "4037121179310444801     369550\n",
      "3942630767220672256     344620\n",
      "3977078013600312321     268010\n",
      "3988071780777702657     262362\n",
      "3784403294629753856     226318\n",
      "3951723256343550465     209540\n",
      "3988187872032603905     209082\n",
      "3931992636670880512     205984\n",
      "dtype: int64\n"
     ]
    }
   ],
   "source": [
    "import pandas as pd\n",
    "\n",
    "# Assuming merged_trades has the 'PnL' column and 'port_id' column\n",
    "# Filter the rows where PnL > 0 (winning positions)\n",
    "win_positions_count = merged_trades[merged_trades['PnL'] > 0].groupby('port_id').size()\n",
    "\n",
    "# Sort by the number of win positions in descending order (more wins is better)\n",
    "top_20_win_positions = win_positions_count.sort_values(ascending=False).head(20)\n",
    "\n",
    "# Display the top 20 port_id with the most win positions\n",
    "print(top_20_win_positions)\n"
   ]
  },
  {
   "cell_type": "markdown",
   "metadata": {},
   "source": [
    "#Ranking Port_ids based on Total Trades"
   ]
  },
  {
   "cell_type": "code",
   "execution_count": 34,
   "metadata": {},
   "outputs": [
    {
     "name": "stdout",
     "output_type": "stream",
     "text": [
      "port_id\n",
      "4017263283405469185    8562320\n",
      "4000877324693233921    6723650\n",
      "3944088772635000577    2151619\n",
      "4021243448368889856    2107537\n",
      "3956076827719377409    1580132\n",
      "3995532094997544704    1335740\n",
      "4020204877254599680    1188735\n",
      "3987739404272887297    1154572\n",
      "3999240873283311617     942170\n",
      "4031493134338259457     715356\n",
      "3887577207880438784     703931\n",
      "4011626972687000576     678788\n",
      "4037121179310444801     635076\n",
      "3942630767220672256     573140\n",
      "3988071780777702657     518290\n",
      "3977078013600312321     462097\n",
      "3784403294629753856     405715\n",
      "3951723256343550465     381220\n",
      "4022641794255717633     366609\n",
      "3988187872032603905     358409\n",
      "dtype: int64\n"
     ]
    }
   ],
   "source": [
    "import pandas as pd\n",
    "\n",
    "# Assuming merged_trades has the 'port_id' column and each row represents a trade\n",
    "# Count the total number of trades for each port_id\n",
    "total_trades_count = merged_trades.groupby('port_id').size()\n",
    "\n",
    "# Sort by the total number of trades in descending order (more trades is better)\n",
    "top_20_total_trades = total_trades_count.sort_values(ascending=False).head(20)\n",
    "\n",
    "# Display the top 20 port_id with the most total trades\n",
    "print(top_20_total_trades)\n"
   ]
  }
 ],
 "metadata": {
  "kernelspec": {
   "display_name": "Python 3",
   "language": "python",
   "name": "python3"
  },
  "language_info": {
   "codemirror_mode": {
    "name": "ipython",
    "version": 3
   },
   "file_extension": ".py",
   "mimetype": "text/x-python",
   "name": "python",
   "nbconvert_exporter": "python",
   "pygments_lexer": "ipython3",
   "version": "3.11.4"
  }
 },
 "nbformat": 4,
 "nbformat_minor": 2
}
